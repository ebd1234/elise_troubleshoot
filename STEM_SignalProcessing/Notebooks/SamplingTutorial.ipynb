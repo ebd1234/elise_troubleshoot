{
 "cells": [
  {
   "cell_type": "markdown",
   "metadata": {
    "slideshow": {
     "slide_type": "slide"
    }
   },
   "source": [
    "\n",
    "\n",
    "Reference: Prof. Dr. -Ing. Gerald Schuller <br> Jupyter Notebook: Renato Profeta\n"
   ]
  },
  {
   "cell_type": "markdown",
   "metadata": {
    "slideshow": {
     "slide_type": "-"
    }
   },
   "source": [
    "# Sampling Tutorial"
   ]
  },
  {
   "cell_type": "code",
   "execution_count": 1,
   "metadata": {
    "hide_input": true
   },
   "outputs": [
    {
     "data": {
      "text/html": [
       "<iframe width=\"560\" height=\"315\" src=\"https://www.youtube.com/embed/jAdkpMC4ZGo\" frameborder=\"0\" allow=\"accelerometer; encrypted-media; gyroscope; picture-in-picture\" allowfullscreen></iframe>\n"
      ],
      "text/plain": [
       "<IPython.core.display.HTML object>"
      ]
     },
     "metadata": {},
     "output_type": "display_data"
    }
   ],
   "source": [
    "%%html\n",
    "<iframe width=\"560\" height=\"315\" src=\"https://www.youtube.com/embed/jAdkpMC4ZGo\" frameborder=\"0\" allow=\"accelerometer; encrypted-media; gyroscope; picture-in-picture\" allowfullscreen></iframe>"
   ]
  },
  {
   "cell_type": "markdown",
   "metadata": {
    "slideshow": {
     "slide_type": "-"
    }
   },
   "source": [
    "To see what happens when we sample a signal, lets start with the analog signal s(t). Sampling it means to sample the signal at sample intervals T (example: 1/8000 s in the ISDN example), or the sampling frequency $f_s$ (8kHz in the ISDN example). \n",
    "\n",
    "Mathematically, sampling can be formulated as multiplying the analog signal with a Dirac impulse at the sampling time instances nT, where n is the number of our sample (n=0,… for causal systems). "
   ]
  },
  {
   "cell_type": "code",
   "execution_count": 2,
   "metadata": {
    "hide_input": true
   },
   "outputs": [
    {
     "data": {
      "text/html": [
       "<iframe width=\"560\" height=\"315\" src=\"https://www.youtube.com/embed/_YclokYvRk4\" frameborder=\"0\" allow=\"accelerometer; encrypted-media; gyroscope; picture-in-picture\" allowfullscreen></iframe>\n"
      ],
      "text/plain": [
       "<IPython.core.display.HTML object>"
      ]
     },
     "metadata": {},
     "output_type": "display_data"
    }
   ],
   "source": [
    "%%html\n",
    "<iframe width=\"560\" height=\"315\" src=\"https://www.youtube.com/embed/_YclokYvRk4\" frameborder=\"0\" allow=\"accelerometer; encrypted-media; gyroscope; picture-in-picture\" allowfullscreen></iframe>"
   ]
  },
  {
   "cell_type": "code",
   "execution_count": null,
   "metadata": {
    "hide_input": true,
    "slideshow": {
     "slide_type": "-"
    }
   },
   "outputs": [],
   "source": [
    "# Imports\n",
    "%matplotlib notebook\n",
    "import numpy as np\n",
    "import matplotlib.pyplot as plt\n",
    "from matplotlib.ticker import FuncFormatter\n",
    "from IPython.display import display, HTML"
   ]
  },
  {
   "cell_type": "code",
   "execution_count": null,
   "metadata": {
    "hide_input": true
   },
   "outputs": [],
   "source": [
    "# Format local\n",
    "CSS = \"\"\"\n",
    ".output {\n",
    "    align-items: center;\n",
    "}\n",
    "\"\"\"\n",
    "HTML('<style>{}</style>'.format(CSS))"
   ]
  },
  {
   "cell_type": "code",
   "execution_count": null,
   "metadata": {
    "hide_input": true
   },
   "outputs": [],
   "source": [
    "\n",
    "# Signal\n",
    "dirac_sequence = np.ones(4)\n",
    "\n",
    "# Plot\n",
    "fig = plt.figure(figsize=(10,6))\n",
    "ax = fig.add_subplot(111)\n",
    "plt.stem(dirac_sequence, use_line_collection=True)\n",
    "plt.xlim(right=5)\n",
    "plt.ylim(top=3)\n",
    "plt.yticks([])\n",
    "plt.title('Dirac Sequence', loc='left')\n",
    "plt.xlabel('time', horizontalalignment='right', x=1.0)\n",
    "xmin, xmax = ax.get_xlim() \n",
    "ymin, ymax = ax.get_ylim()\n",
    "ax.xaxis.set_major_formatter(FuncFormatter(\n",
    "   lambda val,pos: '{:.0g}T'.format(val) if val !=0 else '0'\n",
    "))\n",
    "\n",
    "# Arrowed Axis\n",
    "\n",
    "for side in ['bottom','right','top','left']:\n",
    "    ax.spines[side].set_visible(False)\n",
    "    \n",
    "\n",
    "dps = fig.dpi_scale_trans.inverted()\n",
    "bbox = ax.get_window_extent().transformed(dps)\n",
    "width, height = bbox.width, bbox.height\n",
    " \n",
    "\n",
    "hw = 1./20.*(ymax-ymin) \n",
    "hl = 1./20.*(xmax-xmin)\n",
    "lw = 1. \n",
    "ohg = 0.3 \n",
    " \n",
    "yhw = hw/(ymax-ymin)*(xmax-xmin)* height/width \n",
    "yhl = hl/(xmax-xmin)*(ymax-ymin)* width/height\n",
    " \n",
    "ax.arrow(xmin, 0, xmax-xmin, 0., fc='k', ec='k', lw = lw, \n",
    "         head_width=hw, head_length=hl, overhang = ohg, \n",
    "         length_includes_head= True, clip_on = False) \n",
    " \n",
    "ax.arrow(0, ymin, 0., ymax-ymin, fc='k', ec='k', lw = lw, \n",
    "         head_width=yhw, head_length=yhl, overhang = ohg, \n",
    "         length_includes_head= True, clip_on = False) \n",
    " \n",
    "# Annotation\n",
    "plt.text(3.5, 0.5, r'$\\cdots$',\n",
    "         {'color': 'black', 'fontsize': 24, 'ha': 'center', 'va': 'center'});\n"
   ]
  },
  {
   "cell_type": "markdown",
   "metadata": {
    "slideshow": {
     "slide_type": "-"
    }
   },
   "source": [
    "The sequence or train of Dirac impulses can be written as:\n",
    "<br>\n",
    "$$ \\large\n",
    "\\Delta _{T}(t):= \\sum_{n=0} ^\\infty \\delta(t-nT) $$\n",
    "<br>\n",
    "Remember that the integral over a Dirac impulse is 1:<br>\n",
    "$$\\int _{t=-\\infty} ^\\infty \\delta(t) dt=1$$"
   ]
  },
  {
   "cell_type": "markdown",
   "metadata": {
    "slideshow": {
     "slide_type": "-"
    }
   },
   "source": [
    "The integral over the product of a function with a Dirac impulse is the value of the function at the position of the impulse:\n",
    "\n",
    "$$ \\large\n",
    "\\begin{equation} \\int_{t=-\\infty} ^\\infty s(t) \\delta(t-nT)dt = s(nT)\\end{equation}$$ \n",
    "\n",
    "This is the mathematical formulation of sampling at time-point nT. We can now use this description to compute the resulting **spectrum** with the **Fourier transform**."
   ]
  },
  {
   "cell_type": "code",
   "execution_count": 3,
   "metadata": {
    "hide_input": true
   },
   "outputs": [
    {
     "data": {
      "text/html": [
       "<iframe width=\"560\" height=\"315\" src=\"https://www.youtube.com/embed/9wODoG_H-jg\" frameborder=\"0\" allow=\"accelerometer; encrypted-media; gyroscope; picture-in-picture\" allowfullscreen></iframe>\n"
      ],
      "text/plain": [
       "<IPython.core.display.HTML object>"
      ]
     },
     "metadata": {},
     "output_type": "display_data"
    }
   ],
   "source": [
    "%%html\n",
    "<iframe width=\"560\" height=\"315\" src=\"https://www.youtube.com/embed/9wODoG_H-jg\" frameborder=\"0\" allow=\"accelerometer; encrypted-media; gyroscope; picture-in-picture\" allowfullscreen></iframe>"
   ]
  },
  {
   "cell_type": "markdown",
   "metadata": {
    "slideshow": {
     "slide_type": "-"
    }
   },
   "source": [
    "First, if we look at the Fourier transform of the analog signal or system, we get<br>\n",
    "\n",
    "$$ {S ^{c} }  ( ω ) = \\int _{ {t= -  \\infty } }^ { { \\infty } }  {s ( t )  \\cdot e ^{{ - jωt} }  dt} $$\n",
    "\n",
    "where the superscript c denote the continuous version, with $w=2\\pi f$ the angular frequency. If we now compute the Fourier Transform for the sampled signal $s(t)\\cdot \\Delta _T (t)$, with the replacement\n",
    "<br>\n",
    " $$s(t) \\leftarrow s(t) \\cdot \\Delta_T(t)$$\n",
    " \n",
    " we obtain the following sum (since only at the sampling time instances the integral is non-zero, as we see in eq. (1)),<br>\n",
    " $$\n",
    " {S ^{d} }  ( ω ) = \\sum _{ {n= -  \\infty } } ^ { { \\infty } }  {s (  nT)  \\cdot e ^{ { - jω nT} } }  \n",
    " $$\n",
    "<br>\n",
    "with the superscript d now denoting the discrete time version. Now we can see that the frequency variable only appears as $wnT$, and T is the inverse of the sampling frequency. Hence we get\n",
    "<br>\n",
    "$$\\omega T=\\frac{\\omega}{f_s}=:\\Omega $$"
   ]
  },
  {
   "cell_type": "markdown",
   "metadata": {
    "slideshow": {
     "slide_type": "-"
    }
   },
   "source": [
    "This is now our **normalized frequency**, it is without a physical unit, since the unit Hertz in $\\omega$ and $f_s$ cancel. In the normalized frequency $2\\pi$ represents the sampling frequency and $\\pi$ is the so called **Nyquist frequency** (the upper limit of our usable frequency range, defined as **half** the sampling frequency). \n",
    "\n",
    "Observe that we use the capital $\\Omega$ to signify that this is the normalized frequency. The capitalized version is commonly used to distinguish it from the continuous, non-normalized, version, if both are used. Otherwise, also the small $\\omega$ is used in the literature, for the normalized frequency, if that is all we need, if there is no danger of confusion, as we did before. \n",
    "\n",
    "To convert a normalized frequency back to the non-normalized one, we simply multiply it with the sampling frequency: $\\omega=\\Omega \\cdot f_s$.\n",
    "\n",
    "To indicate that we are now in the discrete domain, we rename our signal to x(n)=s(nT).\n",
    "\n",
    "Its spectrum or frequency response is then\n",
    "$$\n",
    "X(\\Omega)=\\sum_{n=-\\infty}^\\infty x(n)e^{-j\\Omega n}\n",
    "$$\n",
    "\n",
    "We call this the **“Discrete Time Fourier Transform” (DTFT)**, because we apply it to discrete time signals x(n). This can be distinguished from the Discrete Fourier Transform, because the above time signal has infinite length.\n",
    "\n",
    "Because n is integer here (no longer real valued like t), we get a $2\\pi$ **periodicity** for $X(\\Omega)$. This is the first important property for discrete time signals. "
   ]
  },
  {
   "cell_type": "code",
   "execution_count": 4,
   "metadata": {
    "hide_input": true
   },
   "outputs": [
    {
     "data": {
      "text/html": [
       "<iframe width=\"560\" height=\"315\" src=\"https://www.youtube.com/embed/qqbWmiwMC3Q\" frameborder=\"0\" allow=\"accelerometer; encrypted-media; gyroscope; picture-in-picture\" allowfullscreen></iframe>\n"
      ],
      "text/plain": [
       "<IPython.core.display.HTML object>"
      ]
     },
     "metadata": {},
     "output_type": "display_data"
    }
   ],
   "source": [
    "%%html\n",
    "<iframe width=\"560\" height=\"315\" src=\"https://www.youtube.com/embed/qqbWmiwMC3Q\" frameborder=\"0\" allow=\"accelerometer; encrypted-media; gyroscope; picture-in-picture\" allowfullscreen></iframe>"
   ]
  },
  {
   "cell_type": "code",
   "execution_count": null,
   "metadata": {
    "hide_input": true
   },
   "outputs": [],
   "source": [
    "# Plot Poles and Zeros\n",
    "from  matplotlib import patches\n",
    "plt.figure(figsize=(10,6))\n",
    "ax = plt.subplot(111)\n",
    "r = 1.5; plt.axis('scaled'); plt.axis([-r, r, -r, r])\n",
    "ticks = [-1, 1]; plt.xticks(ticks); plt.yticks(ticks)\n",
    "# Unit Circle\n",
    "uc = patches.Circle((0,0), radius=1, fill=False, color='black', ls='dashed')\n",
    "ax.add_patch(uc)\n",
    "ax.spines['left'].set_position('center')\n",
    "ax.spines['bottom'].set_position('center')\n",
    "ax.spines['right'].set_visible(False)\n",
    "ax.spines['top'].set_visible(False)\n",
    "plt.xlabel('Re', horizontalalignment='right', x=1.0)\n",
    "plt.ylabel('Im',  y=1.0)\n",
    "plt.title('Complex z-Plane', loc='right')\n",
    "# Annotations\n",
    "ax.annotate('$\\omega=0$', xy=(1, 0),  xycoords='data',\n",
    "            xytext=(1.1, 0.35), textcoords='axes fraction',\n",
    "            arrowprops=dict(facecolor='black', shrink=0.05, width=0.5),\n",
    "            horizontalalignment='right', verticalalignment='top',\n",
    "            )\n",
    "ax.annotate('$\\omega=\\pi$', xy=(-1, 0),  xycoords='data',\n",
    "            xytext=(0.05, 0.6), textcoords='axes fraction',\n",
    "            arrowprops=dict(facecolor='black', shrink=0.05, width=0.5),\n",
    "            horizontalalignment='right', verticalalignment='top',\n",
    "            )\n",
    "ax.annotate('$e^{-j\\omega}$', xy=(0.7, 0.7),  xycoords='data',\n",
    "            xytext=(1, 0.7), textcoords='axes fraction', size=15,\n",
    "            arrowprops=dict(facecolor='black', width=0.5),\n",
    "            horizontalalignment='right', verticalalignment='top',\n",
    "            );"
   ]
  },
  {
   "cell_type": "markdown",
   "metadata": {
    "hide_input": false,
    "slideshow": {
     "slide_type": "-"
    }
   },
   "source": [
    "Here we can see that in general we obtain a $2\\pi$ periodicity in the frequency domain, because of the $2\\pi$ periodicity of the exponential function $e^{jw}$.\n",
    "\n",
    "Also observe that for **real valued** signals, the spectrum of the negative frequencies is the conjugate complex of the positive frequencies,\n",
    "\n",
    "$$\n",
    "X(-\\Omega)=X^*(\\Omega)\n",
    "$$\n",
    "\n",
    "where * denotes the conjugate complex operation, because in our DTFT, $e^{-j(-\\Omega )n}=(e^{-j\\Omega n})^*$.\n",
    "\n",
    "(we also have to use the fact that the conjugate complex of a real valued signal does not change it, to draw the conjugation out of the Fourier sum).\n",
    "\n",
    "This also means that for real valued signals we only need to look at the frequency range between 0 and $\\pi$, since the negative frequencies are conjugate symmetric (and because of the 2pi periodicity the range between -pi and pi is sufficient to look at). This is also again what the Nyquist Theorem tells us, that the frequencies between 0 and $\\pi$ (the Nyquist frequency) are sufficient to completely describe a (real valued) signal."
   ]
  },
  {
   "cell_type": "markdown",
   "metadata": {
    "slideshow": {
     "slide_type": "slide"
    }
   },
   "source": [
    "## Sampling a Discrete Time Signal"
   ]
  },
  {
   "cell_type": "code",
   "execution_count": 5,
   "metadata": {
    "hide_input": true
   },
   "outputs": [
    {
     "data": {
      "text/html": [
       "<iframe width=\"560\" height=\"315\" src=\"https://www.youtube.com/embed/uZFKOUfibt4\" frameborder=\"0\" allow=\"accelerometer; encrypted-media; gyroscope; picture-in-picture\" allowfullscreen></iframe>\n"
      ],
      "text/plain": [
       "<IPython.core.display.HTML object>"
      ]
     },
     "metadata": {},
     "output_type": "display_data"
    }
   ],
   "source": [
    "%%html\n",
    "<iframe width=\"560\" height=\"315\" src=\"https://www.youtube.com/embed/uZFKOUfibt4\" frameborder=\"0\" allow=\"accelerometer; encrypted-media; gyroscope; picture-in-picture\" allowfullscreen></iframe>"
   ]
  },
  {
   "cell_type": "markdown",
   "metadata": {
    "slideshow": {
     "slide_type": "-"
    }
   },
   "source": [
    "So what happens if we further downsample an already discrete signal x(n), to reduce its sampling rate?\n",
    "\n",
    "**Downsampling by N** means we only keep every Nth sample and discard every sample in between. Observe that this results in a **normalized frequency which is a factor of N higher**.\n",
    "\n",
    "This downsampling process can also be seen as first multiplying the signal with a sequence of **unit pulses** (a 1 at each sample position), zeros in between, and later dropping the zeros. This multiplication with the unit pulse train can now be used to mathematically analyse this downsampling, looking at the resulting spectra, first still including the zeros. The frequency response now becomes\n",
    "\n",
    "\n",
    "$$\\large X^d(\\Omega)=\\sum_{n=mN} x(n)e^{-j \\Omega n}$$\n",
    "$$\\large =\\sum_{m=- \\infty}^ \\infty x(mN)e^{-j \\Omega mN}$$\n",
    "for all integers m.\n",
    "\n",
    "Again we can write down-sampling as a multiplication of the signal with a sampling function. In continuous time it was the sequence of Dirac impulses, here it is a **sequence of unit pulses** at positions of multiples of N,\n",
    "\n",
    "$$ \\Delta_N ( n ) = \\left ( \\matrix {{1 , if n = m N} \\\\ {0 , e l s e}} \\right) $$\n",
    "\n",
    "Then the sampled signal, with the zeros still in it, becomes\n",
    "\n",
    "$$x^d(n)=x(n)\\Delta _N (n)$$\n",
    "\n",
    "This signal is now an intermediate signal, which gets the zeros removed before transmission or storage, to reduce the needed data rate. The decoder upsamples it by re-inserting the zeros to obtain the original sampling rate.\n",
    "\n",
    "Observe that this is then also the signal  that we obtain after this upsampling in the decoder. Hence this signal looks interesting to us, because it appears in the encoder and also in the decoder.\n"
   ]
  },
  {
   "cell_type": "markdown",
   "metadata": {
    "slideshow": {
     "slide_type": "-"
    }
   },
   "source": [
    "What does its **spectrum or frequency response** look like?\n",
    "\n",
    "We saw that the downsampled signal $x^d(n)$ can be written as the **multiplication** of the original signal with the unit pulse train $\\Delta_N (n)$. In the spectrum or frequency domain this becomes a **convolution with their Fourier transforms**. \n",
    "\n",
    "The Fourier transform of the unit pulse train is a dirac impulse train. But that is not so easy to derive, so we just apply a simple trick, to make it mathematically more easy and get converging sums.  We have a **guess** what the Fourier transform of the unit pulse train is: we get Dirac impulses at frequencies of $\\frac{2\\pi}{N}k$ (fundamental frequency $2 \\pi / N$ and its harmonics). The fundamental (angular) frequency is $2 \\pi / N$, because our original sampling frequency was $2 \\pi$, and now we reduced it by a factor N.\n",
    "\n",
    "With a constant factor that becomes clear later, we get our guess to\n",
    "\n",
    "$$ \\large\n",
    "\\delta_{\\frac{2\\pi}{N}} \\left ( Ω \\right )=\\sum_{ k=0 } ^ { N-1 } \\frac{2 \\pi} { N} \\delta( \\Omega-\\frac{2 \\pi}{N} \\cdot k)\n",
    "$$\n",
    "\n",
    "Where $\\delta_{2\\pi/N} \\left ( Ω \\right )$ is (guessed to be) the Fourier transform of the unit impulse train (the Dirac impulse train). We just need to verify it. Its **inverse Discrete Time Fourier Transform** is\n",
    "\n",
    "$$\\large\n",
    "\\Delta_N \\left ( n \\right )  =\\frac{1}  {2 π}  \\int _ 0^ {2 π} {\\delta_{2\\pi/N} \\left ( Ω \\right )  e^{j n Ω} d Ω}$$\n",
    "\n",
    "$$\\large\n",
    "=\\frac{1}  {2 π}  \\int_ 0 ^{2 π} \\sum_ { k=0 } ^ { N-1 } \\frac{2 \\pi} { N} \\delta( \\Omega-\\frac{2 \\pi}{N }\\cdot k ) e^{jn\\Omega} d\\Omega    \n",
    "$$\n",
    "\n",
    "\n",
    "$$\\large\n",
    "=\\frac{1}{N}  \\sum_{k = 0}^ {N - 1} e^{j \\frac{2 π} {N} \\cdot k \\cdot n}$$"
   ]
  },
  {
   "cell_type": "markdown",
   "metadata": {
    "slideshow": {
     "slide_type": "-"
    }
   },
   "source": [
    "Now we have to prove that this is indeed our unit pulse train. To do that, we can look at the sum. It is a geometric sum (a sum over a constant with the summation index in the exponent),\n",
    "\n",
    "$S= \\sum _{k = 0} ^ {N - 1} c^k$ , $S \\cdot c = \\sum _{k = 1} ^ N c^k$ , $S c -S =c^N -1$, hence we get\n",
    "\n",
    "$$S =\\frac{c^N - 1}  {c - 1}$$\n",
    "\n",
    "Here we get $c=e^{j\\frac {2 \\pi}{N}n}$, and the sum can hence be computed in a closed form,\n",
    "\n",
    "$$ \\large\n",
    " \\sum _{k = 0}^{N - 1} {e^{j \\frac{2 π} { N} \\cdot n \\cdot k} } =\\frac{e^{j \\frac{2  π} { N} \\cdot n \\cdot N} - 1}  {e^{j \\frac{2  π} {N }\\cdot n} - 1}\n",
    "$$\n",
    "\n",
    "In order to get our unit pulse train, this sum must become N for n=mN. We can check this by simply plugging this into the sum. The right part of the sum is undefined in this case (0/0), but we get an easy result by looking at the left hand side: $e^{j \\frac{2 π}{N} \\cdot m N \\cdot k} =1$. Hence the sum becomes N, as desired!<br>\n",
    "For $n  \\neq m N$ we need the sum to be zero. Here we can now use the right hand side of our equation. The denominator is unequal zero, and the numerator becomes zero, and hence the sum is indeed zero, as needed!\n",
    "\n",
    "This proves that our **assumption was right**, and we have\n",
    "\n",
    "$$\\large\n",
    "\\Delta_N \\left ( n \\right ) =\\frac{1}{ N } \\sum _{k = 0} ^ {N - 1} e^{j \\frac{2 π} {N} \\cdot k \\cdot n}$$<br>"
   ]
  },
  {
   "cell_type": "code",
   "execution_count": 6,
   "metadata": {
    "hide_input": true
   },
   "outputs": [
    {
     "data": {
      "text/html": [
       "<iframe width=\"560\" height=\"315\" src=\"https://www.youtube.com/embed/KeT2i-ARZ7c\" frameborder=\"0\" allow=\"accelerometer; encrypted-media; gyroscope; picture-in-picture\" allowfullscreen></iframe>\n"
      ],
      "text/plain": [
       "<IPython.core.display.HTML object>"
      ]
     },
     "metadata": {},
     "output_type": "display_data"
    }
   ],
   "source": [
    "%%html\n",
    "<iframe width=\"560\" height=\"315\" src=\"https://www.youtube.com/embed/KeT2i-ARZ7c\" frameborder=\"0\" allow=\"accelerometer; encrypted-media; gyroscope; picture-in-picture\" allowfullscreen></iframe>"
   ]
  },
  {
   "cell_type": "markdown",
   "metadata": {
    "slideshow": {
     "slide_type": "-"
    }
   },
   "source": [
    "Now we can use this expression for the unit pulse train in the time domain and compute the Fourier transform,\n",
    "\n",
    "$$\\large\n",
    "x^d \\left ( n \\right )  =x \\left ( n \\right )  \\cdot \\Delta_N \\left ( n \\right ) $$$$ =x  ( n  ) \\cdot \\frac{1}{N}  \\sum _ {k = 0} ^{N - 1} e^{j \\frac{2 π} {N} \\cdot k \\cdot n}\n",
    "$$\n",
    "\n",
    "Taking its Discrete Time Fourier transform now results in\n",
    "\n",
    "$$\\large\n",
    "X^d \\left ( Ω \\right )  = \\sum _ {n = - ∞} ^ ∞ {x  (  n  ) \\cdot} \\frac{1}{ N}  \\sum _ {k = 0} ^{N - 1} e^{j \\frac{2π}{ N}\\cdot k \\cdot n} \\cdot e^{- j Ω n} = $$\n",
    "\n",
    "$$\\large\n",
    "=\\frac{1} { N}  \\sum _ {k = 0}^ {N - 1}\\sum _{n=-\\infty}^{\\infty} {x  ( n )\\cdot e^{-j(- \\frac{2\\pi}{N}\\cdot k +\\Omega)}}$$\n",
    "\n",
    "$$\\large\n",
    "=\\frac{1} {N}  \\sum _{k = 0} ^{N - 1} {X  (  - \\frac{2 π}{ N} k + Ω  )}\n",
    "$$\n",
    "\n",
    "This shows, that sampling, still including the zeros, leads (in the frequency domain) to **multiple shifted versions** of the signal spectrum, the so-called **aliasing components**,\n",
    "\n",
    "\n",
    "$$\\large\n",
    "X^d (\\Omega)= \\frac{1} {N} \\sum _{k=0} ^{N-1} X(- \\frac{2 \\pi}{N} \\cdot k + \\Omega)$$\n",
    "<center>\n",
    "    <img src='./images/aliasing_components.PNG'>\n",
    "</center>\n"
   ]
  },
  {
   "cell_type": "markdown",
   "metadata": {
    "slideshow": {
     "slide_type": "-"
    }
   },
   "source": [
    "**Observe:** The aliasing components **periodify** the spectrum now according to the **new sampling rate**, which is 1/N of the old sampling rate, hence the new period is 1/N the old period (of $2 \\pi$).\n",
    "\n",
    "**Observe:** The spectral components don't overlap if their bandwidths are below $\\dfrac {2\\pi}{N}$ for complex signals, or for a real low pass signal, it should be below $ \\dfrac{\\pi}{N}$! If we want to reconstruct the original signal, hence we need to make sure the aliasing components don't overlap by suitable filtering at the high sampling rate, to prepare for the down-sampling. Observe that the term „Aliasing“ in the literature is sometime only used for overlapping alias components, and sometimes more broadly, like we do here, to mean any additional shifted frequency component.\n",
    "\n",
    "Next is an **example**, also including the negative frequencies that now show up above normalized frequency 1 (**1** being the Nyquist frequency here), and showing 2 sine signals at different strength at normalized frequencies 0.4 and 0.35. This can also be seen as a narrow band signal, resulting e.g. from a passband filter."
   ]
  },
  {
   "cell_type": "code",
   "execution_count": 7,
   "metadata": {
    "hide_input": true
   },
   "outputs": [
    {
     "data": {
      "text/html": [
       "<iframe width=\"560\" height=\"315\" src=\"https://www.youtube.com/embed/sB5HRZgqgIg\" frameborder=\"0\" allow=\"accelerometer; encrypted-media; gyroscope; picture-in-picture\" allowfullscreen></iframe>\n"
      ],
      "text/plain": [
       "<IPython.core.display.HTML object>"
      ]
     },
     "metadata": {},
     "output_type": "display_data"
    }
   ],
   "source": [
    "%%html\n",
    "<iframe width=\"560\" height=\"315\" src=\"https://www.youtube.com/embed/sB5HRZgqgIg\" frameborder=\"0\" allow=\"accelerometer; encrypted-media; gyroscope; picture-in-picture\" allowfullscreen></iframe>"
   ]
  },
  {
   "cell_type": "code",
   "execution_count": null,
   "metadata": {
    "hide_input": true,
    "slideshow": {
     "slide_type": "-"
    }
   },
   "outputs": [],
   "source": [
    "# Signal Processing Parameters\n",
    "Fs = 32000\n",
    "T=1/Fs\n",
    "t = np.arange(Fs//32)*T\n",
    "\n",
    "# Signals\n",
    "w35 = 0.35*Fs/2\n",
    "sine_35 = np.sin(2*np.pi*w35*t)\n",
    "w40 = 0.4*Fs/2\n",
    "sine_40 = 100*np.sin(2*np.pi*w40*t)\n",
    "signal=sine_35+sine_40\n",
    "\n",
    "# FFT\n",
    "from numpy.fft import fft\n",
    "signal_fft = fft(signal)\n",
    "freqs = np.fft.fftshift(np.fft.fftfreq(signal.size,d=T))+Fs/2"
   ]
  },
  {
   "cell_type": "code",
   "execution_count": null,
   "metadata": {
    "hide_input": true,
    "slideshow": {
     "slide_type": "-"
    }
   },
   "outputs": [],
   "source": [
    "plt.figure(figsize=(10,6))\n",
    "plt.plot(freqs/(Fs/2),20*np.log10(np.abs(signal_fft)))\n",
    "plt.grid()\n",
    "plt.ylabel('Magnitude [dB]')\n",
    "plt.xlabel(r'$\\dfrac{Frequency}{Nyquist}$');"
   ]
  },
  {
   "cell_type": "markdown",
   "metadata": {
    "slideshow": {
     "slide_type": "-"
    }
   },
   "source": [
    "After sampling by a factor of N=4, still including the zeros, we get the following spectrum"
   ]
  },
  {
   "cell_type": "code",
   "execution_count": null,
   "metadata": {
    "hide_input": true
   },
   "outputs": [],
   "source": [
    "unit = np.zeros(Fs//32)\n",
    "unit[::4]=1\n",
    "signal_downsampled = signal*unit"
   ]
  },
  {
   "cell_type": "code",
   "execution_count": null,
   "metadata": {
    "hide_input": true
   },
   "outputs": [],
   "source": [
    "signal_ds_fft = fft(signal_downsampled)"
   ]
  },
  {
   "cell_type": "code",
   "execution_count": null,
   "metadata": {
    "hide_input": true,
    "slideshow": {
     "slide_type": "-"
    }
   },
   "outputs": [],
   "source": [
    "from matplotlib.patches import Rectangle\n",
    "\n",
    "plt.figure(figsize=(12,8))\n",
    "plt.plot(freqs/(Fs/2),20*np.log10(np.abs(signal_ds_fft)))\n",
    "plt.grid()\n",
    "plt.ylabel('Magnitude [dB]')\n",
    "plt.xlabel(r'$\\dfrac{Frequency}{Nyquist}$')\n",
    "plt.ylim((-270,120))\n",
    "\n",
    "# Annotations\n",
    "plt.annotate(s='', xy=(0,100), xytext=(1,100), arrowprops=dict(arrowstyle='<->'))\n",
    "plt.text(0.5, 110, 'Positive Freqs.', horizontalalignment='center', verticalalignment='center')\n",
    "\n",
    "plt.annotate(s='', xy=(1,100), xytext=(2,100), arrowprops=dict(arrowstyle='<->'))\n",
    "plt.text(1.5, 110, 'Negative Freqs.', horizontalalignment='center', verticalalignment='center')\n",
    "\n",
    "ax = plt.gca()\n",
    "rect = Rectangle((0.3,-220),0.15,310,linewidth=1,edgecolor='r',facecolor='none')\n",
    "ax.add_patch(rect)\n",
    "rect = Rectangle((1.55,-220),0.15,310,linewidth=1,edgecolor='r',facecolor='none')\n",
    "ax.add_patch(rect)\n",
    "\n",
    "plt.annotate(s='', xy=(0.37,-150), xytext=(0.85,-150), arrowprops=dict(arrowstyle='<-'))\n",
    "plt.annotate(s='', xy=(0.37,-125), xytext=(1.35,-125), arrowprops=dict(arrowstyle='<-'))\n",
    "plt.annotate(s='', xy=(0.37,-100), xytext=(1.85,-100), arrowprops=dict(arrowstyle='<-'))\n",
    "\n",
    "plt.annotate(s='', xy=(1.63,-50), xytext=(1.15,-50), arrowprops=dict(arrowstyle='<-'))\n",
    "plt.annotate(s='', xy=(1.63,-25), xytext=(0.65,-25), arrowprops=dict(arrowstyle='<-'))\n",
    "plt.annotate(s='', xy=(1.63,0), xytext=(0.15,0), arrowprops=dict(arrowstyle='<-'))\n",
    "\n",
    "plt.annotate(s='Original', xy=(0.37,-220), xytext=(0.37,-250), arrowprops=dict(arrowstyle='<-'))\n",
    "plt.annotate(s='Original', xy=(1.63,-220), xytext=(1.63,-250), arrowprops=dict(arrowstyle='<-'));"
   ]
  },
  {
   "cell_type": "markdown",
   "metadata": {
    "slideshow": {
     "slide_type": "-"
    }
   },
   "source": [
    "The picture shows that the spectrum still contains the **original spectrum, plus** the spectral **copies** at frequency shifts of $k\\cdot \\dfrac{ 2 \\cdot \\pi}{N}$ from the originals.\n",
    "\n",
    "**Observe:** Since we have a real valued signal (the sinusoids), the spectrum of negative and positive frequencies are **symmetric** around frequency zero. This then leads to the **mirrored appearance** between the neighbouring spectral images or aliasing components.\n",
    "\n",
    "Nyquist tells us to sample in such a way, that the shifted spectra of our signal do not overlap. Otherwise, if they overlap, we cannot separate those parts of the spectrum anymore, and we loose information, which we cannot reconstruct.\n",
    "\n",
    "**In conclusion:** Sampling a signal by a factor of N, with keeping the zeros between the sample points, leads to N-1 aliasing components or spectral copies."
   ]
  },
  {
   "cell_type": "markdown",
   "metadata": {
    "slideshow": {
     "slide_type": "subslide"
    }
   },
   "source": [
    "**Example:**\n",
    "\n",
    "Make a sine wave which at 44100 Hz sampling rate has a frequency of 400 Hz at 1 second duration. Hence we need 44100 samples, and 400 periods of our sinusoid in this second. Hence we can write our signal in Python as:"
   ]
  },
  {
   "cell_type": "code",
   "execution_count": 8,
   "metadata": {
    "hide_input": true
   },
   "outputs": [
    {
     "data": {
      "text/html": [
       "<iframe width=\"560\" height=\"315\" src=\"https://www.youtube.com/embed/GpiB5cDa5to\" frameborder=\"0\" allow=\"accelerometer; encrypted-media; gyroscope; picture-in-picture\" allowfullscreen></iframe>\n"
      ],
      "text/plain": [
       "<IPython.core.display.HTML object>"
      ]
     },
     "metadata": {},
     "output_type": "display_data"
    }
   ],
   "source": [
    "%%html\n",
    "<iframe width=\"560\" height=\"315\" src=\"https://www.youtube.com/embed/GpiB5cDa5to\" frameborder=\"0\" allow=\"accelerometer; encrypted-media; gyroscope; picture-in-picture\" allowfullscreen></iframe>"
   ]
  },
  {
   "cell_type": "code",
   "execution_count": null,
   "metadata": {
    "slideshow": {
     "slide_type": "-"
    }
   },
   "outputs": [],
   "source": [
    "import numpy as np\n",
    "fs = 44100\n",
    "f = 400.0\n",
    "s=np.sin(2*np.pi*f*np.arange(0,1,1.0/fs))\n",
    "Omega = 2*np.pi*f/fs\n",
    "s1=np.sin(Omega*np.arange(0,fs,1))"
   ]
  },
  {
   "cell_type": "code",
   "execution_count": null,
   "metadata": {
    "slideshow": {
     "slide_type": "-"
    }
   },
   "outputs": [],
   "source": [
    "import IPython.display as ipd\n",
    "display(ipd.Audio(s, rate=fs))"
   ]
  },
  {
   "cell_type": "code",
   "execution_count": null,
   "metadata": {
    "slideshow": {
     "slide_type": "-"
    }
   },
   "outputs": [],
   "source": [
    "# Plot the first 1000 samples\n",
    "plt.figure()\n",
    "plt.plot(s[0:1000])\n",
    "plt.plot(s1[0:1000])\n",
    "plt.grid()"
   ]
  },
  {
   "cell_type": "markdown",
   "metadata": {
    "slideshow": {
     "slide_type": "-"
    }
   },
   "source": [
    "Now we can multiply this sine tone signal with a unit pulse train, with N=8.\n",
    "We generate the unit impulse train,"
   ]
  },
  {
   "cell_type": "code",
   "execution_count": null,
   "metadata": {
    "slideshow": {
     "slide_type": "-"
    }
   },
   "outputs": [],
   "source": [
    "unit = np.zeros(44100)\n",
    "unit[0::8] = 1\n",
    "plt.figure()\n",
    "plt.stem(unit[0:100], use_line_collection=True)\n",
    "plt.xlabel('n')\n",
    "plt.ylabel('unit(n)');"
   ]
  },
  {
   "cell_type": "code",
   "execution_count": null,
   "metadata": {
    "slideshow": {
     "slide_type": "-"
    }
   },
   "outputs": [],
   "source": [
    "ipd.Audio(unit,rate=44100)"
   ]
  },
  {
   "cell_type": "markdown",
   "metadata": {
    "slideshow": {
     "slide_type": "-"
    }
   },
   "source": [
    " The multiplication with the unit impulse train:"
   ]
  },
  {
   "cell_type": "code",
   "execution_count": null,
   "metadata": {
    "slideshow": {
     "slide_type": "-"
    }
   },
   "outputs": [],
   "source": [
    "sdu=s*unit"
   ]
  },
  {
   "cell_type": "markdown",
   "metadata": {
    "slideshow": {
     "slide_type": "-"
    }
   },
   "source": [
    "(This multiplication is also called „frequency mixing“).\n",
    "Now plot the result, the first 100 samples:"
   ]
  },
  {
   "cell_type": "code",
   "execution_count": null,
   "metadata": {
    "slideshow": {
     "slide_type": "-"
    }
   },
   "outputs": [],
   "source": [
    "plt.figure(figsize=(10,8))\n",
    "plt.plot(s[0:100], label='Original Signal')\n",
    "plt.stem(sdu[0:100],linefmt='r',markerfmt='r.', use_line_collection=True, label='Downsampled with zeros')\n",
    "plt.legend();"
   ]
  },
  {
   "cell_type": "markdown",
   "metadata": {
    "slideshow": {
     "slide_type": "-"
    }
   },
   "source": [
    "This is our signal still with the zeros in it.\n",
    "Now take a look at the magnitude spectrum (in dB) of the original signal s:"
   ]
  },
  {
   "cell_type": "code",
   "execution_count": null,
   "metadata": {
    "slideshow": {
     "slide_type": "-"
    }
   },
   "outputs": [],
   "source": [
    "from scipy.signal import freqz\n",
    "w,H=freqz(s)\n",
    "plt.figure(figsize=(10,8))\n",
    "plt.plot(w, 20*np.log10(abs(H)+1e-3))\n",
    "plt.xlabel('Normalized Frequency')\n",
    "plt.ylabel('dB')\n",
    "plt.title('Magnitude Frequency Response')\n",
    "plt.grid()"
   ]
  },
  {
   "cell_type": "markdown",
   "metadata": {
    "slideshow": {
     "slide_type": "-"
    }
   },
   "source": [
    "The plot shows the magnitude of the frequency spectrum of our signal. Observe that the frequency axis (horizontal) is a *normalized* frequency, normalized to the Nyquist frequency as $\\pi$, in our case 22050 Hz. Hence our sinusoid should appear as a peak at normalized frequency 400.0/22050*pi=0.05699, which we indeed see.\n",
    " \n",
    "Now we can compare this to our signal with the zeros, sdu:"
   ]
  },
  {
   "cell_type": "code",
   "execution_count": null,
   "metadata": {
    "slideshow": {
     "slide_type": "-"
    }
   },
   "outputs": [],
   "source": [
    "plt.figure(figsize=(10,8))\n",
    "w,H=freqz(s)\n",
    "plt.plot(w, 20*np.log10(abs(H)+1e-3))\n",
    "plt.xlabel('Normalized Frequency')\n",
    "plt.ylabel('dB')\n",
    "plt.title('Magnitude Frequency Response')\n",
    "\n",
    "w,H=freqz(sdu)\n",
    "plt.plot(w, 20*np.log10(abs(H)+1e-3))\n",
    "plt.legend(('Original Sinusoid','Sampled Sinusoid with Zeros'))\n",
    "plt.grid();"
   ]
  },
  {
   "cell_type": "markdown",
   "metadata": {
    "slideshow": {
     "slide_type": "-"
    }
   },
   "source": [
    "Here we can see the original line of our 400 Hz tone, and now also the 7 new aliasing components. Observe that always 2 aliasing components are close together. This is because the original 400 Hz tone also has a spectral peak at the negative frequencies, at -400 Hz, or at normalized frequency -0.05699.\n",
    "\n",
    "Now also listen to the signal with the zeros:"
   ]
  },
  {
   "cell_type": "code",
   "execution_count": null,
   "metadata": {
    "slideshow": {
     "slide_type": "-"
    }
   },
   "outputs": [],
   "source": [
    "ipd.Audio(sdu,rate=44100)"
   ]
  },
  {
   "cell_type": "markdown",
   "metadata": {
    "slideshow": {
     "slide_type": "slide"
    }
   },
   "source": [
    "### Real-Time Python Example"
   ]
  },
  {
   "cell_type": "markdown",
   "metadata": {
    "slideshow": {
     "slide_type": "-"
    }
   },
   "source": [
    "Here you can hear that it sounds quite different from the original, because of the strong aliasing components!\n",
    " \n",
    "**Python** real time audio **example**: This example takes the microphone input and samples it, without removing the zeros, and plays it back the the speaker in real time.\n",
    "\n",
    "It constructs a unit pulse train, with a 1 at every N'th sample, using the modulus function „%“, \n",
    "\n",
    "```s=(np.arange(0,CHUNK)%N)==0```"
   ]
  },
  {
   "cell_type": "code",
   "execution_count": 9,
   "metadata": {
    "hide_input": true
   },
   "outputs": [
    {
     "data": {
      "text/html": [
       "<iframe width=\"560\" height=\"315\" src=\"https://www.youtube.com/embed/hbIQOeD4N2k\" frameborder=\"0\" allow=\"accelerometer; encrypted-media; gyroscope; picture-in-picture\" allowfullscreen></iframe>\n"
      ],
      "text/plain": [
       "<IPython.core.display.HTML object>"
      ]
     },
     "metadata": {},
     "output_type": "display_data"
    }
   ],
   "source": [
    "%%html\n",
    "<iframe width=\"560\" height=\"315\" src=\"https://www.youtube.com/embed/hbIQOeD4N2k\" frameborder=\"0\" allow=\"accelerometer; encrypted-media; gyroscope; picture-in-picture\" allowfullscreen></iframe>"
   ]
  },
  {
   "cell_type": "code",
   "execution_count": null,
   "metadata": {
    "slideshow": {
     "slide_type": "-"
    }
   },
   "outputs": [],
   "source": [
    "\"\"\"\n",
    "PyAudio Example: Make a sampling between input and output \n",
    "(i.e., record a few samples, multiply them with a unit pulse train,\n",
    "and play them back immediately).\n",
    "Using block-wise processing instead of a for loop\n",
    "Gerald Schuller, Octtober 2014\n",
    "\n",
    "Updated and Ported to Jupyter Notebooks by: Renato Profeta, November 2019\n",
    "Using PyAudio Callback Mode, Matplolib\n",
    "\"\"\"\n",
    "\n",
    "import time\n",
    "import numpy as np\n",
    "from pyaudio import PyAudio, paFloat32, paContinue, paInt16, paComplete\n",
    "from ipywidgets import ToggleButton, Checkbox\n",
    "import threading\n",
    "\n",
    "sampling_on=False\n",
    "\n",
    "button_stop= ToggleButton(description='Stop')\n",
    "box_sampling = Checkbox(False, description='Downsampling with Zeros')\n",
    "\n",
    "def on_button_stop(change):\n",
    "    if change['new']==True:\n",
    "        stream.stop_stream()\n",
    "        stream.close()\n",
    "        pa.terminate()\n",
    "        button_stop.disabled=True\n",
    "        print('PyAudio terminated...')\n",
    "button_stop.observe(on_button_stop, 'value')\n",
    "display(button_stop)\n",
    "\n",
    "def box_sampling_changed(box_sampling):\n",
    "    global SamplingOn\n",
    "    if box_sampling['new']: \n",
    "        SamplingOn=True\n",
    "    else:\n",
    "        SamplingOn=False       \n",
    "box_sampling.observe(box_sampling_changed, names='value')\n",
    "display(box_sampling)\n",
    "\n",
    "N=8\n",
    "s=(np.arange(0,1024)%N)==0\n",
    "SamplingOn=False\n",
    "\n",
    "\n",
    "def callback(in_data, frame_count, time_info, flag):\n",
    "    global SamplingOn\n",
    "    audio_data = np.frombuffer(in_data, dtype=np.int16)\n",
    "    audio_data_s = audio_data\n",
    "    if SamplingOn:\n",
    "        audio_data_s=audio_data*s\n",
    "    if button_stop.value==True:\n",
    "        return (audio_data_s, paComplete)\n",
    "    return (audio_data_s, paContinue)\n",
    "\n",
    "pa = PyAudio()\n",
    "\n",
    "stream = pa.open(format = paInt16,\n",
    "                 channels = 1,\n",
    "                 rate = 44100,\n",
    "                 output = True,\n",
    "                 input = True,\n",
    "                 frames_per_buffer = 1024,\n",
    "                 stream_callback = callback)\n",
    "\n",
    "\n",
    "def keep_alive(button_stop):\n",
    "    while stream.is_active():\n",
    "        if button_stop.value==True:\n",
    "            break\n",
    "        time.sleep(0.1)\n",
    "\n",
    "# Create a Thread for run_spectrogram function\n",
    "thread = threading.Thread(target=keep_alive, args=(button_stop,))\n",
    "stream.start_stream()\n",
    "thread.start()"
   ]
  },
  {
   "cell_type": "markdown",
   "metadata": {
    "slideshow": {
     "slide_type": "slide"
    }
   },
   "source": [
    "## Removing the Zeros"
   ]
  },
  {
   "cell_type": "markdown",
   "metadata": {
    "slideshow": {
     "slide_type": "-"
    }
   },
   "source": [
    "The final step of downsampling is now to omit the zeros between the samples, to obtain the lower sampling rate. Let's call the signal without the zeros  $y(m)$ where the time index m denotes the **lower sampling rate** (as opposed to n, which denotes the higher sampling rate). \n",
    "\n",
    "In our Python example this is:"
   ]
  },
  {
   "cell_type": "code",
   "execution_count": 10,
   "metadata": {
    "hide_input": true
   },
   "outputs": [
    {
     "data": {
      "text/html": [
       "<iframe width=\"560\" height=\"315\" src=\"https://www.youtube.com/embed/XGKfAm1-Mek\" frameborder=\"0\" allow=\"accelerometer; encrypted-media; gyroscope; picture-in-picture\" allowfullscreen></iframe>\n"
      ],
      "text/plain": [
       "<IPython.core.display.HTML object>"
      ]
     },
     "metadata": {},
     "output_type": "display_data"
    }
   ],
   "source": [
    "%%html\n",
    "<iframe width=\"560\" height=\"315\" src=\"https://www.youtube.com/embed/XGKfAm1-Mek\" frameborder=\"0\" allow=\"accelerometer; encrypted-media; gyroscope; picture-in-picture\" allowfullscreen></iframe>"
   ]
  },
  {
   "cell_type": "code",
   "execution_count": null,
   "metadata": {
    "slideshow": {
     "slide_type": "-"
    }
   },
   "outputs": [],
   "source": [
    "sd = sdu[0:44100:8]\n",
    "plt.figure(figsize=(10,8))\n",
    "plt.stem(sd[0:int(100/8)],linefmt='r',markerfmt='r.', use_line_collection=True, label='Downsampled without zeros')\n",
    "plt.legend()\n",
    "plt.grid();"
   ]
  },
  {
   "cell_type": "markdown",
   "metadata": {
    "slideshow": {
     "slide_type": "-"
    }
   },
   "source": [
    "We can now take a look at the spectrum with :"
   ]
  },
  {
   "cell_type": "code",
   "execution_count": null,
   "metadata": {
    "slideshow": {
     "slide_type": "-"
    }
   },
   "outputs": [],
   "source": [
    "w,H=freqz(sd)\n",
    "plt.figure(figsize=(10,8))\n",
    "plt.plot(w, 20*np.log10(abs(H)+1e-3))\n",
    "plt.xlabel('Frequency')\n",
    "plt.ylabel('dB')\n",
    "plt.title('Magnitude Frequency Response')\n",
    "plt.grid()"
   ]
  },
  {
   "cell_type": "markdown",
   "metadata": {
    "slideshow": {
     "slide_type": "-"
    }
   },
   "source": [
    "Observe that the sine signal now appear at normalized frequency of 0.455, a **factor of 8 higher** than before, with the zeros in it, because we **reduced the sampling rate by 8**. \n",
    "\n",
    "This is because we now have a new Nyquist frequency of 22050/8 now, hence our normalized frequency becomes $400*3.14 / 22050 * 8 \\approx 0.455$. This means removing the zeros scales or stretches our frequency axis.\n",
    "\n",
    "    \n",
    "Observe that in our time-domain plot, we only have $100/8 \\approx12$ samples left."
   ]
  },
  {
   "cell_type": "markdown",
   "metadata": {
    "slideshow": {
     "slide_type": "-"
    }
   },
   "source": [
    "How are the frequency responses or spectra of $y(m)$ and $x^d(n)$ connected? \n",
    "\n",
    "We can simply take the Fourier transforms of them,\n",
    "\n",
    "$$ \\large\n",
    "X^d (\\Omega)=\\sum _ {n=- \\infty}^ \\infty x^d (n) \\cdot  e^{-j \\Omega n} \n",
    "$$\n",
    "\n",
    "still with the zeros in it. Hence most of the sum contains only zeros. Now we only need to let the sum run over the non-zeros entries (only every Nth entry), by replacing n by mN, and we get\n",
    "\n",
    "$$ \\large\n",
    "X^d (\\Omega)=\\sum _ {n=mN} x^d (n) \\cdot  e^{-j \\Omega n} \n",
    "$$\n",
    "\n",
    "for all integer m, now without the zeros. Now we can make the connection to the Fourier transform of y(m), by making the index substitution m for n in the sum,\n",
    "\n",
    "\n",
    "$$ \\large\n",
    "X^d (\\Omega)= \\sum _{m=- \\infty} ^ \\infty y(m) \\cdot  e^{-j \\Omega \\cdot N m} = Y(\\Omega \\cdot N) \n",
    "$$\n",
    "\n",
    "This is now our result. It shows that the downsampled version (with the removal of the zeros), has the same frequency response, but the frequency variable $\\Omega$ is scaled by the factor N. \n",
    "\n",
    "For instance, the normalized frequency $\\pi /N$ before downsampling becomes $\\pi$ after removing the zeros! It shows that a small part of the spectrum before downsampling becomes the full usable spectrum after downsampling.\n",
    "\n",
    "Observe that we don't loose any frequencies this way, because by looking at eq. (1) we see that we obtain multiple copies of the spectrum in steps of $2\\pi /N$, and hence the spectrum already has a periodicity of $2\\pi /N$. This means that the spectrum between $-\\pi/N$ and $\\pi/N$ for instance (we could take any period of length $2\\pi /N$) contains a unique and full part of the spectrum, because the rest is just a periodic continuation. "
   ]
  },
  {
   "cell_type": "markdown",
   "metadata": {
    "slideshow": {
     "slide_type": "-"
    }
   },
   "source": [
    "This can be seen in following pictures,\n",
    "\n",
    "<center>\n",
    "    <img src='./images/lecture6-6.PNG' width=\"600\" >\n",
    "    <cite>Figure: The magnitude spectrum of a signal. The 2 boxes symbolize the passband of an ideal bandpass, here a high pass.</cite>\n",
    "    <img src='./images/lecture6-8.PNG' width=\"600\">\n",
    "    <cite>Figure: The signal spectrum after passing through the high pass.</cite>\n",
    "    <img src='./images/lecture6-7.PNG' width=\"600\">\n",
    "    <cite>Figure: Signal spectrum after multiplication with the unit pulse train, for N=2, hence setting every second value to zero (the zeros still in the sequence). Observe that we shift and add the signal by multiples of $2\\pi /2=\\pi$, and in effect we obtain „mirrored“ images of the high frequencies to the low frequencies (since we assume a real valued signal). Observe that the mirrored spectra and the original spectrum don't overlap, which makes reconstruction easy.</cite>\n",
    "    <img src='./images/lecture6-9.PNG' width=\"600\" >\n",
    "    <cite>Figure: Signal spectrum after downsampling (removing the zeros) by N (2 in this example). Observe the stretching of the spectrum by a factor of 2. </cite>\n",
    "</center>"
   ]
  },
  {
   "cell_type": "markdown",
   "metadata": {
    "slideshow": {
     "slide_type": "slide"
    }
   },
   "source": [
    "## Upsampling"
   ]
  },
  {
   "cell_type": "code",
   "execution_count": 11,
   "metadata": {
    "hide_input": true
   },
   "outputs": [
    {
     "data": {
      "text/html": [
       "<iframe width=\"560\" height=\"315\" src=\"https://www.youtube.com/embed/Ow_FOJS82gc\" frameborder=\"0\" allow=\"accelerometer; encrypted-media; gyroscope; picture-in-picture\" allowfullscreen></iframe>\n"
      ],
      "text/plain": [
       "<IPython.core.display.HTML object>"
      ]
     },
     "metadata": {},
     "output_type": "display_data"
    }
   ],
   "source": [
    "%%html\n",
    "<iframe width=\"560\" height=\"315\" src=\"https://www.youtube.com/embed/Ow_FOJS82gc\" frameborder=\"0\" allow=\"accelerometer; encrypted-media; gyroscope; picture-in-picture\" allowfullscreen></iframe>"
   ]
  },
  {
   "cell_type": "markdown",
   "metadata": {
    "slideshow": {
     "slide_type": "-"
    }
   },
   "source": [
    "What is still missing in our system is the upsampling, as the opposite operation of downsampling, for the case where we would like to increase our sampling rate. One of the first (**wrong!**) approaches to upsampling that often comes to mind if we want to do upsampling by a factor of N, is to simply repeat every sample N-1 times. \n",
    "\n",
    "**But** this is equivalent to first inserting N-1 zeros after each sample, and then filter the resulting sequence by a **low pass** filter with an impulse response of N ones. This is a very special case, and we would like to have a more general case. \n",
    "\n",
    "In our case, we actually a high pass filter, not a low pass. Hence we assume that we upsample by always first inserting N-1 **zeros** after each sample, and then have some interpolation filter for it (can also be a **high or band pass**, as needed to reconstruct a signal).\n",
    "\n",
    "Again we take the signal at the lower sampling rate as $y(m)$, with index m for the lower sampling rate, and the signal at the higher sampling rate, with the zeros in it, as $x^d(n)$ with index n for the higher sampling rate. Here we can see that this is simply the reverse operation of the final step of removing the zeros for the downsampling.\n",
    "\n",
    "Hence we can take our result from downsampling and apply it here:\n",
    "\n",
    "$$X^d(\\Omega)=Y(\\Omega \\cdot N)$$\n",
    "$$or$$\n",
    "$$X^d(\\Omega /N)=Y(\\Omega )$$\n",
    "\n",
    "We are now just coming from y(m), going to the now upsampled signal $x^d(n)$.\n",
    "\n",
    "For instance if we had the frequency $\\pi$ before upsampling, it becomes $\\pi /2$ for the upsampled signal, if we have N=2. In this way we now get an „extended“ frequency range.\n",
    "\n",
    "Since we now have again the signal including the zeros, $x^d(n)$, we again have the periodic spectrum, as before, as we progress through the same steps backwards now. We can also see that the result of upsampling is periodic in frequency, because the signal was $2\\pi$ periodic before upsampling anyway, and after upsampling the  frequency scale replaces $2\\pi \\cdot N$ by $2\\pi$. "
   ]
  },
  {
   "cell_type": "markdown",
   "metadata": {
    "slideshow": {
     "slide_type": "slide"
    }
   },
   "source": [
    "## Reconstruction"
   ]
  },
  {
   "cell_type": "code",
   "execution_count": 12,
   "metadata": {
    "hide_input": true
   },
   "outputs": [
    {
     "data": {
      "text/html": [
       "<iframe width=\"560\" height=\"315\" src=\"https://www.youtube.com/embed/bIYXoAUISNs\" frameborder=\"0\" allow=\"accelerometer; gyroscope; picture-in-picture\" allowfullscreen></iframe>\n"
      ],
      "text/plain": [
       "<IPython.core.display.HTML object>"
      ]
     },
     "metadata": {},
     "output_type": "display_data"
    }
   ],
   "source": [
    "%%html\n",
    "<iframe width=\"560\" height=\"315\" src=\"https://www.youtube.com/embed/bIYXoAUISNs\" frameborder=\"0\" allow=\"accelerometer; gyroscope; picture-in-picture\" allowfullscreen></iframe>"
   ]
  },
  {
   "cell_type": "markdown",
   "metadata": {
    "slideshow": {
     "slide_type": "-"
    }
   },
   "source": [
    "Observe that if the **aliasing components don't overlap**, we can **perfectly reconstruct** the signal by using a suitable filter. We can make sure that they don't overlap by **filtering** the signal at the **higher sampling rate**, before they can overlap (as we did in our high pass example). If they already overlap at the lower sampling rate, it would be too late to separate the different components, the signal would already be „destroyed“.\n",
    "\n",
    "We can perfectly reconstruct the high pass signal in our example if we use ideal filters, using upsampling and ideal high pass filtering.\n",
    "\n",
    "In this way we have for the analysis and synthesis the following picture:\n",
    "\n",
    "<center>\n",
    "    <br>\n",
    "    <img src='./images/lecture6-10.PNG'>\n",
    "</center>\n",
    "\n",
    "Observe that we violate the conventional Nyquist criterium, because our high pass passes the high frequencies. But then the sampling mirrors those frequencies to the lower range, such that we can apply the traditional Nyquist sampling theorem. This method is also known as bandpass Nyquist. This is an important principle for filter banks and wavelets. It says that we can perfectly reconstruct a bandpass signal in a filter bank, if we sample with twice the rate as the **bandwidth** of our bandpass signal (assuming ideal filters, to avoid spectral overlap of aliasing components).\n",
    "\n",
    "In genereal this is true for **complex** filters.<br>\n",
    "For **real** valued filters observe that this simple assumption only works if we have bandpass filters which start at frequencies $\\pi/N\\cdot k$(integer k) .  Otherwise we could have overlap to the aliased components!\n",
    "\n",
    "**Example:** We have a real valued bandpass filter which starts its passband at $\\epsilon$ and ends at $\\epsilon+\\pi /N$(since it is real values the the passband also appears at the same negative frequencies, $-\\epsilon$ to $-\\epsilon-\\pi /N$). After multiplication with the unit pulse train, we get one (out of N) aliasing component by shifting the negative passband by $2\\pi /N$ to the positive frequencies, which results in the range of $\\pi / N-\\epsilon$ to $2\\pi /N-\\epsilon$. Hence we have an overlap from $\\pi / N-\\epsilon$ to $\\pi/N+\\epsilon$ and we could not perfectly reconstruct our signal!\n",
    "\n",
    "Hence, sampling of twice the bandwidth for real valued signals and filters only works if the bandwidth are aligned with $\\pi /N \\cdot k$. What could we do otherwise to avoid overlapping aliasing components? We could simply increase the sampling rate, for instance to twice the usual sampling rate (4 times the bandwidth), to have a \"safety margin\".\n",
    "\n",
    "Another possibility would be to shift the bandpass signals in frequency, such that they are now aligned with the above mentioned grid.\n",
    "\n",
    "Observe that this restriction is not needed for complex signals or filter banks. That is also why complex filter banks are used for instance in acoustic echo cancellation, because there the sampling rate can be increased by a certain fraction (less than a factor of 2) to reduce aliasing artifacts, and still have a lower complexity.\n",
    "\n",
    "<center>\n",
    "    <br>\n",
    "    <img src='./images/lecture6-11.PNG'>\n",
    "</center>\n",
    "\n",
    "**Summary:** if our band boarders are alligned with multiples of $\\pi/N$ then we can donwsample by N, otherwise we are on the safe side by using N/2 as downsampling rate for real valued signals.  For complex signals we can always downsample by N, regardles of the exact placement of the bandpass filter.\n",
    "\n",
    "Compare with the standard Nyquist case: here we have a lowpass signal which we downsample and reconstruct:\n",
    "<center>\n",
    "    <img src='./images/lecture6-12.PNG'>\n",
    "</center>"
   ]
  },
  {
   "cell_type": "markdown",
   "metadata": {
    "slideshow": {
     "slide_type": "slide"
    }
   },
   "source": [
    "## Python Example: Live Spectrogram: Sampling, LP Filtering"
   ]
  },
  {
   "cell_type": "code",
   "execution_count": 13,
   "metadata": {
    "hide_input": true
   },
   "outputs": [
    {
     "data": {
      "text/html": [
       "<iframe width=\"560\" height=\"315\" src=\"https://www.youtube.com/embed/6WJQ3KCBN7w\" frameborder=\"0\" allow=\"accelerometer; encrypted-media; gyroscope; picture-in-picture\" allowfullscreen></iframe>\n"
      ],
      "text/plain": [
       "<IPython.core.display.HTML object>"
      ]
     },
     "metadata": {},
     "output_type": "display_data"
    }
   ],
   "source": [
    "%%html\n",
    "<iframe width=\"560\" height=\"315\" src=\"https://www.youtube.com/embed/6WJQ3KCBN7w\" frameborder=\"0\" allow=\"accelerometer; encrypted-media; gyroscope; picture-in-picture\" allowfullscreen></iframe>"
   ]
  },
  {
   "cell_type": "code",
   "execution_count": null,
   "metadata": {
    "slideshow": {
     "slide_type": "-"
    }
   },
   "outputs": [],
   "source": [
    "# Imports and Configuration\n",
    "\n",
    "import pyaudio\n",
    "import numpy as np\n",
    "import scipy.signal as signal\n",
    "import struct\n",
    "import matplotlib.pyplot as plt\n",
    "from matplotlib.mlab import window_hanning,specgram\n",
    "from matplotlib.colors import LogNorm\n",
    "from matplotlib.ticker import FuncFormatter, MultipleLocator\n",
    "from ipywidgets import ToggleButton, Checkbox, Button\n",
    "from ipywidgets import HBox, interact\n",
    "import threading"
   ]
  },
  {
   "cell_type": "code",
   "execution_count": null,
   "metadata": {
    "slideshow": {
     "slide_type": "-"
    }
   },
   "outputs": [],
   "source": [
    "CHUNK_SIZE = 2048 #Blocksize\n",
    "CHANNELS = 1 # Audio Channes\n",
    "RATE = 32000  #Sampling Rate in Hz\n",
    "N=8.0     #Downsampling/Upsampling Rate\n",
    "FORMAT = pyaudio.paInt16 #conversion format for PyAudio stream\n",
    "NFFT = 1024 #NFFT value for spectrogram\n",
    "OVERLAP = 512 #overlap value for spectrogram"
   ]
  },
  {
   "cell_type": "code",
   "execution_count": null,
   "metadata": {
    "slideshow": {
     "slide_type": "-"
    }
   },
   "outputs": [],
   "source": [
    "# LP Filter\n",
    "[b,a]=signal.iirfilter(8, 1900.0/16000,rp=60,btype='lowpass')\n",
    "#Memory for the filter:\n",
    "zd=np.zeros(8)\n",
    "zu=np.zeros(8)\n",
    "LPFilterOn=False"
   ]
  },
  {
   "cell_type": "code",
   "execution_count": null,
   "metadata": {
    "slideshow": {
     "slide_type": "-"
    }
   },
   "outputs": [],
   "source": [
    "# Function to Plot Spetrogram\n",
    "SamplingOn=False # Turn Donwsampling/Upsampling On/Off\n",
    "ctr=0 # Control for plotting\n",
    "def run_spectrogram(toggle_run):\n",
    "    global zd, zu, ctr, SamplingOn, LPFilterOn\n",
    "    while(True):\n",
    "        if toggle_run.value==True:\n",
    "            break\n",
    "            \n",
    "        #Reading from audio input stream into data with block length \"CHUNK\":\n",
    "        data_stream = stream.read(CHUNK_SIZE)\n",
    "        shorts = (struct.unpack( 'h' * CHUNK_SIZE, data_stream ));\n",
    "        samples=np.array(list(shorts),dtype=float);\n",
    "\n",
    "        #start block-wise signal processing:\n",
    "        #Low pass filter *before downsampling*:\n",
    "        if LPFilterOn==True:\n",
    "            [samples,zd]=signal.lfilter(b, a, samples, zi=zd)\n",
    "\n",
    "        #Compute a block/an array of a unit pulse train corresponding a downsampling rate of N:\n",
    "        #make unit pulse train with modulus function \"%\": \n",
    "        s=(np.arange(0,CHUNK_SIZE)%N)==0\n",
    "        #The sampling:\n",
    "        #multiply the signal with the unit pulse train:\n",
    "        if SamplingOn == True:\n",
    "            samples=samples*s;\n",
    "\n",
    "\n",
    "        #Lowpass filtering *after upsampling*:\n",
    "        #filter function:\n",
    "        if LPFilterOn==True:\n",
    "            [samples,zu]=signal.lfilter(b, a, samples, zi=zu)\n",
    "\n",
    "        #end signal processing\n",
    "\n",
    "        #play out samples:\n",
    "        samples=np.clip(samples, -32000,32000)\n",
    "        samples=samples.astype(int)\n",
    "        #converting from short integers to a stream of bytes in \"data\":\n",
    "        data=struct.pack('h' * len(samples), *samples);\n",
    "        #Writing data back to audio output stream: \n",
    "        stream.write(data, CHUNK_SIZE)\n",
    "\n",
    "        # Update Plot\n",
    "        if (ctr%4 ==0):\n",
    "            arr2D,freqs,bins = specgram(samples,window=window_hanning,\n",
    "                                        Fs = RATE,NFFT=NFFT,noverlap=OVERLAP)\n",
    "            im_data = im.get_array()\n",
    "            if ctr < 16:\n",
    "                im_data = np.hstack((im_data,arr2D))\n",
    "                im.set_array(im_data)\n",
    "            else:\n",
    "                keep_block = arr2D.shape[1]*(16 - 1)\n",
    "                im_data = np.delete(im_data,np.s_[:-keep_block],1)\n",
    "                im_data = np.hstack((im_data,arr2D))\n",
    "                im.set_array(im_data)\n",
    "            fig.canvas.draw()\n",
    "        ctr+=1"
   ]
  },
  {
   "cell_type": "code",
   "execution_count": null,
   "metadata": {
    "slideshow": {
     "slide_type": "-"
    }
   },
   "outputs": [],
   "source": [
    "# GUI\n",
    "toggle_run = ToggleButton(description='Stop')\n",
    "button_start= Button(description='Start')\n",
    "box_sampling = Checkbox(False, description='Downsampling/Upsampling')\n",
    "box_LPFilter = Checkbox(False, description='LP Filters')\n",
    "\n",
    "def start_button(button_start):\n",
    "    thread.start()\n",
    "    button_start.disabled=True\n",
    "button_start.on_click(start_button)\n",
    "\n",
    "\n",
    "def on_click_toggle_run(change):\n",
    "    if change['new']==False:\n",
    "        stream.stop_stream()\n",
    "        stream.close()\n",
    "        p.terminate()\n",
    "        plt.close()\n",
    "toggle_run.observe(on_click_toggle_run, 'value')\n",
    "\n",
    "def box_samping_changed(box_sampling):\n",
    "    global SamplingOn\n",
    "    if box_sampling['new']: \n",
    "        SamplingOn=True\n",
    "    else:\n",
    "        SamplingOn=False       \n",
    "box_sampling.observe(box_samping_changed, names='value')\n",
    "\n",
    "def box_LPFilter_changed(box_LPFilter):\n",
    "    global LPFilterOn\n",
    "    if box_LPFilter['new']: \n",
    "        LPFilterOn=True\n",
    "    else:\n",
    "        LPFilterOn=False       \n",
    "box_LPFilter.observe(box_LPFilter_changed, names='value')\n",
    "\n",
    "box_buttons = HBox([button_start,toggle_run])\n",
    "box_checkbox = HBox([box_sampling,box_LPFilter])"
   ]
  },
  {
   "cell_type": "code",
   "execution_count": null,
   "metadata": {
    "slideshow": {
     "slide_type": "-"
    }
   },
   "outputs": [],
   "source": [
    "# Create a Thread for run_spectrogram function\n",
    "thread = threading.Thread(target=run_spectrogram, args=(toggle_run,))"
   ]
  },
  {
   "cell_type": "code",
   "execution_count": null,
   "metadata": {
    "slideshow": {
     "slide_type": "-"
    }
   },
   "outputs": [],
   "source": [
    "# Start Audio Stream\n",
    "# Create \n",
    "p = pyaudio.PyAudio()\n",
    "    \n",
    "stream = p.open(format=FORMAT,\n",
    "                channels=CHANNELS,\n",
    "                rate=RATE,\n",
    "                input=True,\n",
    "                output=True,\n",
    "                frames_per_buffer=CHUNK_SIZE)\n",
    "\n",
    "\n",
    "\n",
    "input_data = stream.read(CHUNK_SIZE)\n",
    "samples = np.frombuffer(input_data,np.int16)"
   ]
  },
  {
   "cell_type": "code",
   "execution_count": null,
   "metadata": {},
   "outputs": [],
   "source": [
    "# Initialize Plot and Display GUI\n",
    "\n",
    "display(box_buttons)\n",
    "display(box_checkbox)\n",
    "\n",
    "fig, ax = plt.subplots()\n",
    "arr2D,freqs,bins = specgram(samples,window=window_hanning,\n",
    "                                Fs = RATE,NFFT=NFFT,noverlap=OVERLAP)\n",
    "\n",
    "\n",
    "extent = (bins[0],bins[-1]*32,freqs[-1],freqs[0])\n",
    "im = plt.imshow(arr2D,aspect='auto',extent = extent,interpolation=\"none\",\n",
    "                     norm = LogNorm(vmin=.01,vmax=1))\n",
    "plt.xlabel('Time')\n",
    "plt.ylabel('Frequency (Hz)')\n",
    "plt.title('Live Spectogram')\n",
    "plt.gca().invert_yaxis()\n",
    "plt.xticks([])\n",
    "\n",
    "def handle_close(evt):\n",
    "    # When everything done, release the capture\n",
    "    stream.stop_stream()\n",
    "    stream.close()\n",
    "    p.terminate()\n",
    "    plt.close()\n",
    "plt.connect('close_event', handle_close);"
   ]
  },
  {
   "cell_type": "code",
   "execution_count": null,
   "metadata": {},
   "outputs": [],
   "source": []
  }
 ],
 "metadata": {
  "kernelspec": {
   "display_name": "Python 3",
   "language": "python",
   "name": "python3"
  },
  "language_info": {
   "codemirror_mode": {
    "name": "ipython",
    "version": 3
   },
   "file_extension": ".py",
   "mimetype": "text/x-python",
   "name": "python",
   "nbconvert_exporter": "python",
   "pygments_lexer": "ipython3",
   "version": "3.7.3"
  },
  "livereveal": {
   "rise": {
    "height": "90%",
    "width": "90%"
   },
   "scroll": true,
   "theme": "sky",
   "transition": "zoom"
  },
  "widgets": {
   "application/vnd.jupyter.widget-state+json": {
    "state": {
     "010411b23dde4ac9b0a3030e14cf116a": {
      "model_module": "@jupyter-widgets/controls",
      "model_module_version": "1.5.0",
      "model_name": "ButtonModel",
      "state": {
       "description": "Start",
       "layout": "IPY_MODEL_6a3bf4da31de478d94493fb7e7bf2612",
       "style": "IPY_MODEL_28c5906b489444688437bc5e2decf81a"
      }
     },
     "0124c108c90b41408309aa3aac820c5d": {
      "model_module": "@jupyter-widgets/controls",
      "model_module_version": "1.5.0",
      "model_name": "DescriptionStyleModel",
      "state": {
       "description_width": ""
      }
     },
     "015addf4649b4d41b3ee5a4e08b1feef": {
      "model_module": "@jupyter-widgets/controls",
      "model_module_version": "1.5.0",
      "model_name": "DescriptionStyleModel",
      "state": {
       "description_width": ""
      }
     },
     "01a5f4dbc4064fd3a34973eb916c31c5": {
      "model_module": "@jupyter-widgets/controls",
      "model_module_version": "1.5.0",
      "model_name": "ToggleButtonModel",
      "state": {
       "description": "Stop",
       "disabled": true,
       "layout": "IPY_MODEL_05ed0d85918542ce8e2d2b5a11d7d46c",
       "style": "IPY_MODEL_11beb2d8d5cb46ccbbbf8aa79a579437"
      }
     },
     "02c9485b88554eb9992be45d9860b92e": {
      "model_module": "@jupyter-widgets/base",
      "model_module_version": "1.2.0",
      "model_name": "LayoutModel",
      "state": {}
     },
     "05ed0d85918542ce8e2d2b5a11d7d46c": {
      "model_module": "@jupyter-widgets/base",
      "model_module_version": "1.2.0",
      "model_name": "LayoutModel",
      "state": {}
     },
     "070df1bc17ac48328bf07a4c6bbf4386": {
      "model_module": "@jupyter-widgets/base",
      "model_module_version": "1.2.0",
      "model_name": "LayoutModel",
      "state": {}
     },
     "08bcfe0454894f769d36cf36a969a89c": {
      "model_module": "@jupyter-widgets/controls",
      "model_module_version": "1.5.0",
      "model_name": "CheckboxModel",
      "state": {
       "description": "Downsampling with Zeros",
       "disabled": false,
       "layout": "IPY_MODEL_ec8397c2b6e5444587135da33d9144fd",
       "style": "IPY_MODEL_3fe6660526e44cc19947700d461a8a9d",
       "value": false
      }
     },
     "0b8e46359cee465aa82778a67f6c0b96": {
      "model_module": "@jupyter-widgets/base",
      "model_module_version": "1.2.0",
      "model_name": "LayoutModel",
      "state": {}
     },
     "0b9a6a693871477ebf610c47a13ce72a": {
      "model_module": "@jupyter-widgets/controls",
      "model_module_version": "1.5.0",
      "model_name": "DescriptionStyleModel",
      "state": {
       "description_width": ""
      }
     },
     "0fbffec0398544c78cc392a8f3387f8e": {
      "model_module": "@jupyter-widgets/base",
      "model_module_version": "1.2.0",
      "model_name": "LayoutModel",
      "state": {}
     },
     "11649f3e118b4488af7188e4a8e73291": {
      "model_module": "@jupyter-widgets/base",
      "model_module_version": "1.2.0",
      "model_name": "LayoutModel",
      "state": {}
     },
     "1171b6ca805c463b872b71564b229ae0": {
      "model_module": "@jupyter-widgets/base",
      "model_module_version": "1.2.0",
      "model_name": "LayoutModel",
      "state": {}
     },
     "11beb2d8d5cb46ccbbbf8aa79a579437": {
      "model_module": "@jupyter-widgets/controls",
      "model_module_version": "1.5.0",
      "model_name": "DescriptionStyleModel",
      "state": {
       "description_width": ""
      }
     },
     "12c1d6bd34634a1fb100dddc180fee8c": {
      "model_module": "@jupyter-widgets/controls",
      "model_module_version": "1.5.0",
      "model_name": "ToggleButtonModel",
      "state": {
       "description": "Stop",
       "disabled": true,
       "layout": "IPY_MODEL_cbfc931a5e68487a91bda9c791d27a54",
       "style": "IPY_MODEL_154ee137a89643c596b033dd8318706c",
       "value": true
      }
     },
     "1372b726ab434f9b89571f6da34c9e62": {
      "model_module": "@jupyter-widgets/base",
      "model_module_version": "1.2.0",
      "model_name": "LayoutModel",
      "state": {}
     },
     "14129132b8da4c588bdb14db56917502": {
      "model_module": "@jupyter-widgets/controls",
      "model_module_version": "1.5.0",
      "model_name": "DescriptionStyleModel",
      "state": {
       "description_width": ""
      }
     },
     "14f182217bd54f0eab515df20a2b5138": {
      "model_module": "@jupyter-widgets/base",
      "model_module_version": "1.2.0",
      "model_name": "LayoutModel",
      "state": {}
     },
     "154ee137a89643c596b033dd8318706c": {
      "model_module": "@jupyter-widgets/controls",
      "model_module_version": "1.5.0",
      "model_name": "DescriptionStyleModel",
      "state": {
       "description_width": ""
      }
     },
     "16fff80d180c43a599f5bb2e9b551989": {
      "model_module": "@jupyter-widgets/controls",
      "model_module_version": "1.5.0",
      "model_name": "DescriptionStyleModel",
      "state": {
       "description_width": ""
      }
     },
     "1a8f9d0d68954f4fa2ce1361633bde98": {
      "model_module": "@jupyter-widgets/controls",
      "model_module_version": "1.5.0",
      "model_name": "DescriptionStyleModel",
      "state": {
       "description_width": ""
      }
     },
     "1b001b2ac3e847549ef031ffa10555a7": {
      "model_module": "@jupyter-widgets/base",
      "model_module_version": "1.2.0",
      "model_name": "LayoutModel",
      "state": {}
     },
     "1d77796b884c4861a25db47632b8d489": {
      "model_module": "@jupyter-widgets/controls",
      "model_module_version": "1.5.0",
      "model_name": "ButtonStyleModel",
      "state": {}
     },
     "1e4739a8c3694e0184b1d7a856de0e23": {
      "model_module": "@jupyter-widgets/controls",
      "model_module_version": "1.5.0",
      "model_name": "DescriptionStyleModel",
      "state": {
       "description_width": ""
      }
     },
     "1f7c5c8eb1f645d0b0b4ffb1db9e262b": {
      "model_module": "@jupyter-widgets/controls",
      "model_module_version": "1.5.0",
      "model_name": "DescriptionStyleModel",
      "state": {
       "description_width": ""
      }
     },
     "1faa0ab334e449a3b270651f437a8cea": {
      "model_module": "@jupyter-widgets/base",
      "model_module_version": "1.2.0",
      "model_name": "LayoutModel",
      "state": {}
     },
     "224bcb4dea094163994aaa3f0121c825": {
      "model_module": "@jupyter-widgets/controls",
      "model_module_version": "1.5.0",
      "model_name": "DescriptionStyleModel",
      "state": {
       "description_width": ""
      }
     },
     "234045dd6a114ecda45e0086e0d54e99": {
      "model_module": "@jupyter-widgets/base",
      "model_module_version": "1.2.0",
      "model_name": "LayoutModel",
      "state": {}
     },
     "238506e028044b5b881ef74c8ad59846": {
      "model_module": "@jupyter-widgets/controls",
      "model_module_version": "1.5.0",
      "model_name": "BoundedIntTextModel",
      "state": {
       "description": "Bit-Depth:",
       "layout": "IPY_MODEL_56ad1c5dc11f482f9602ecf86f593745",
       "max": 16,
       "min": 2,
       "style": "IPY_MODEL_f832049896fd43d3a027ac200b0d333a",
       "value": 8
      }
     },
     "25438168806e49268b476a257216e7dd": {
      "model_module": "@jupyter-widgets/controls",
      "model_module_version": "1.5.0",
      "model_name": "HBoxModel",
      "state": {
       "children": [
        "IPY_MODEL_ad19b104bd2c4274827935f0bc642e1c"
       ],
       "layout": "IPY_MODEL_266d77a5a8bf4ba0b75999d1ff5ec2ba"
      }
     },
     "266d77a5a8bf4ba0b75999d1ff5ec2ba": {
      "model_module": "@jupyter-widgets/base",
      "model_module_version": "1.2.0",
      "model_name": "LayoutModel",
      "state": {}
     },
     "2770a82d9d574867b924b252a6697fcb": {
      "model_module": "@jupyter-widgets/controls",
      "model_module_version": "1.5.0",
      "model_name": "CheckboxModel",
      "state": {
       "description": "Downsampling with Zeros",
       "disabled": false,
       "layout": "IPY_MODEL_827b4767fde3485eb5c2b84a93302b94",
       "style": "IPY_MODEL_9e41a52328224716afc6e66f01c14e6e",
       "value": true
      }
     },
     "28c5906b489444688437bc5e2decf81a": {
      "model_module": "@jupyter-widgets/controls",
      "model_module_version": "1.5.0",
      "model_name": "ButtonStyleModel",
      "state": {}
     },
     "2a17130f6ba1491f959d24bee45727aa": {
      "model_module": "@jupyter-widgets/controls",
      "model_module_version": "1.5.0",
      "model_name": "ToggleButtonModel",
      "state": {
       "description": "Stop",
       "layout": "IPY_MODEL_9eefd0731f5c4392a5acde7f1e933fd5",
       "style": "IPY_MODEL_1f7c5c8eb1f645d0b0b4ffb1db9e262b",
       "value": true
      }
     },
     "2aa28291b0e94968b90bc072bad5692c": {
      "model_module": "@jupyter-widgets/controls",
      "model_module_version": "1.5.0",
      "model_name": "DescriptionStyleModel",
      "state": {
       "description_width": ""
      }
     },
     "2c0c1ccee30d431c9040ada58fd71129": {
      "model_module": "@jupyter-widgets/base",
      "model_module_version": "1.2.0",
      "model_name": "LayoutModel",
      "state": {}
     },
     "2f2f8d6d9d194d8d81aa9445ae96bc2a": {
      "model_module": "@jupyter-widgets/controls",
      "model_module_version": "1.5.0",
      "model_name": "DescriptionStyleModel",
      "state": {
       "description_width": ""
      }
     },
     "2f59316910c14ba5a89beb99d1c86a93": {
      "model_module": "@jupyter-widgets/controls",
      "model_module_version": "1.5.0",
      "model_name": "ToggleButtonModel",
      "state": {
       "description": "Stop",
       "layout": "IPY_MODEL_4d986dc237e54cb58da0435fa72d0f38",
       "style": "IPY_MODEL_48d6266121a349d48f11378c6804ee61",
       "value": true
      }
     },
     "3121709f5a264cf080f39aa0e49e7279": {
      "model_module": "@jupyter-widgets/controls",
      "model_module_version": "1.5.0",
      "model_name": "ToggleButtonModel",
      "state": {
       "description": "Stop",
       "layout": "IPY_MODEL_f469e7d7b4a541af8a5340dd1d099999",
       "style": "IPY_MODEL_454bac39d61a47178f95831b6cee19a4"
      }
     },
     "34f16d143e48488090e222e4ed23e9b8": {
      "model_module": "@jupyter-widgets/controls",
      "model_module_version": "1.5.0",
      "model_name": "DescriptionStyleModel",
      "state": {
       "description_width": ""
      }
     },
     "367c6ac4f00e4104ba6837f8104dfb9f": {
      "model_module": "@jupyter-widgets/controls",
      "model_module_version": "1.5.0",
      "model_name": "DescriptionStyleModel",
      "state": {
       "description_width": ""
      }
     },
     "36cef02e3ac343f597afecf7a0da19c4": {
      "model_module": "@jupyter-widgets/base",
      "model_module_version": "1.2.0",
      "model_name": "LayoutModel",
      "state": {}
     },
     "37389e5b17cf48e3a0021f24e6b830b3": {
      "model_module": "@jupyter-widgets/controls",
      "model_module_version": "1.5.0",
      "model_name": "DescriptionStyleModel",
      "state": {
       "description_width": ""
      }
     },
     "3c934745843a4bdb9ecd61d569af4ee9": {
      "model_module": "@jupyter-widgets/base",
      "model_module_version": "1.2.0",
      "model_name": "LayoutModel",
      "state": {}
     },
     "3dfa9b2704014d8ebad48087ee6a6911": {
      "model_module": "@jupyter-widgets/controls",
      "model_module_version": "1.5.0",
      "model_name": "DescriptionStyleModel",
      "state": {
       "description_width": ""
      }
     },
     "3fe6660526e44cc19947700d461a8a9d": {
      "model_module": "@jupyter-widgets/controls",
      "model_module_version": "1.5.0",
      "model_name": "DescriptionStyleModel",
      "state": {
       "description_width": ""
      }
     },
     "4006adeda1664c4a86f0139ba481db11": {
      "model_module": "@jupyter-widgets/base",
      "model_module_version": "1.2.0",
      "model_name": "LayoutModel",
      "state": {}
     },
     "40f5f1c9812d45788c32d8c02dc2502c": {
      "model_module": "@jupyter-widgets/controls",
      "model_module_version": "1.5.0",
      "model_name": "DescriptionStyleModel",
      "state": {
       "description_width": ""
      }
     },
     "4181a03ad26243f18c1afcbac62c4b93": {
      "model_module": "@jupyter-widgets/controls",
      "model_module_version": "1.5.0",
      "model_name": "DropdownModel",
      "state": {
       "_options_labels": [
        "Mid-Tread",
        "Mid-Rise"
       ],
       "description": "Quantization Type:",
       "index": 0,
       "layout": "IPY_MODEL_0b8e46359cee465aa82778a67f6c0b96",
       "style": "IPY_MODEL_16fff80d180c43a599f5bb2e9b551989"
      }
     },
     "41fd1ddb3701487bbf5386c80b51c704": {
      "model_module": "@jupyter-widgets/controls",
      "model_module_version": "1.5.0",
      "model_name": "ButtonModel",
      "state": {
       "description": "Start",
       "layout": "IPY_MODEL_fac6a0a2658c463f99385b30036c7279",
       "style": "IPY_MODEL_91e6c77a2bc3420db431bce939a148b9"
      }
     },
     "446d80c629a24e2fa2136e03dfc9d28b": {
      "model_module": "@jupyter-widgets/base",
      "model_module_version": "1.2.0",
      "model_name": "LayoutModel",
      "state": {}
     },
     "454bac39d61a47178f95831b6cee19a4": {
      "model_module": "@jupyter-widgets/controls",
      "model_module_version": "1.5.0",
      "model_name": "DescriptionStyleModel",
      "state": {
       "description_width": ""
      }
     },
     "462478cddfff483e922a3aa095a2e610": {
      "model_module": "@jupyter-widgets/controls",
      "model_module_version": "1.5.0",
      "model_name": "CheckboxModel",
      "state": {
       "description": "$\\mu$-Law",
       "disabled": false,
       "layout": "IPY_MODEL_78c567360a394eb19dabc832927f8693",
       "style": "IPY_MODEL_14129132b8da4c588bdb14db56917502",
       "value": false
      }
     },
     "46e11036c0eb4a03b7cac038bbd079c8": {
      "model_module": "@jupyter-widgets/controls",
      "model_module_version": "1.5.0",
      "model_name": "HBoxModel",
      "state": {
       "children": [
        "IPY_MODEL_41fd1ddb3701487bbf5386c80b51c704",
        "IPY_MODEL_bbd61feea0244b1b8fc79616ee1afa8d"
       ],
       "layout": "IPY_MODEL_c85902faf6af47779f333db52146d897"
      }
     },
     "476db36e2ef8495598b90265cb380580": {
      "model_module": "@jupyter-widgets/base",
      "model_module_version": "1.2.0",
      "model_name": "LayoutModel",
      "state": {}
     },
     "48d6266121a349d48f11378c6804ee61": {
      "model_module": "@jupyter-widgets/controls",
      "model_module_version": "1.5.0",
      "model_name": "DescriptionStyleModel",
      "state": {
       "description_width": ""
      }
     },
     "4d6e3265944e4f37932251a700e7d2e3": {
      "model_module": "@jupyter-widgets/base",
      "model_module_version": "1.2.0",
      "model_name": "LayoutModel",
      "state": {}
     },
     "4d986dc237e54cb58da0435fa72d0f38": {
      "model_module": "@jupyter-widgets/base",
      "model_module_version": "1.2.0",
      "model_name": "LayoutModel",
      "state": {}
     },
     "4db559233bc54c04b701ff71ebc1d55d": {
      "model_module": "@jupyter-widgets/controls",
      "model_module_version": "1.5.0",
      "model_name": "DescriptionStyleModel",
      "state": {
       "description_width": ""
      }
     },
     "4dc960d6ae284c63a5b0fdf32b5572f4": {
      "model_module": "@jupyter-widgets/controls",
      "model_module_version": "1.5.0",
      "model_name": "ButtonStyleModel",
      "state": {}
     },
     "4e02c6cc9f2040c0924a4ba1a152edad": {
      "model_module": "@jupyter-widgets/controls",
      "model_module_version": "1.5.0",
      "model_name": "CheckboxModel",
      "state": {
       "description": "Downsampling with Zeros",
       "disabled": false,
       "layout": "IPY_MODEL_8bfde2f187c84f8c936d80d6ab9dd110",
       "style": "IPY_MODEL_6f86b5e8c23b4820bba2a6a839d624b3",
       "value": false
      }
     },
     "50e455fde9824f468875e0b897625f4c": {
      "model_module": "@jupyter-widgets/controls",
      "model_module_version": "1.5.0",
      "model_name": "DescriptionStyleModel",
      "state": {
       "description_width": ""
      }
     },
     "510465f7cad54c2db0e18fd7acd3311a": {
      "model_module": "@jupyter-widgets/base",
      "model_module_version": "1.2.0",
      "model_name": "LayoutModel",
      "state": {}
     },
     "5254bdb17cad4908be4e921410737e7b": {
      "model_module": "@jupyter-widgets/controls",
      "model_module_version": "1.5.0",
      "model_name": "DescriptionStyleModel",
      "state": {
       "description_width": ""
      }
     },
     "56ad1c5dc11f482f9602ecf86f593745": {
      "model_module": "@jupyter-widgets/base",
      "model_module_version": "1.2.0",
      "model_name": "LayoutModel",
      "state": {}
     },
     "56c77fc92d1f40619026d3fbdd034c3a": {
      "model_module": "@jupyter-widgets/controls",
      "model_module_version": "1.5.0",
      "model_name": "ToggleButtonModel",
      "state": {
       "description": "Stop",
       "disabled": true,
       "layout": "IPY_MODEL_e099daeead614c06ba66a3b6aa2a6519",
       "style": "IPY_MODEL_1e4739a8c3694e0184b1d7a856de0e23",
       "value": true
      }
     },
     "571445d534c84d6c89e6c1c26924cf48": {
      "model_module": "@jupyter-widgets/controls",
      "model_module_version": "1.5.0",
      "model_name": "DescriptionStyleModel",
      "state": {
       "description_width": ""
      }
     },
     "58af0e2b243b46b8beb32885f671b62b": {
      "model_module": "@jupyter-widgets/controls",
      "model_module_version": "1.5.0",
      "model_name": "ToggleButtonModel",
      "state": {
       "description": "Stop",
       "disabled": true,
       "layout": "IPY_MODEL_f185bf89a1464b86b18aeb1e09ed6db6",
       "style": "IPY_MODEL_8408a8de6a2c4f8398edf82d90315e5d",
       "value": true
      }
     },
     "5be8b143e4fd48c4bf4c2db74d00f21a": {
      "model_module": "@jupyter-widgets/controls",
      "model_module_version": "1.5.0",
      "model_name": "DescriptionStyleModel",
      "state": {
       "description_width": ""
      }
     },
     "5d021f3d3f104103af22aff0c388a31d": {
      "model_module": "@jupyter-widgets/controls",
      "model_module_version": "1.5.0",
      "model_name": "ToggleButtonModel",
      "state": {
       "description": "Stop",
       "disabled": true,
       "layout": "IPY_MODEL_c63e57f2060841f7aa9fb386480ae645",
       "style": "IPY_MODEL_ec805846f5734669b7fcc4fd0ea88cde"
      }
     },
     "5e6239c4e5a14abba70b63e1be1f8edc": {
      "model_module": "@jupyter-widgets/controls",
      "model_module_version": "1.5.0",
      "model_name": "ToggleButtonModel",
      "state": {
       "description": "Stop",
       "disabled": true,
       "layout": "IPY_MODEL_070df1bc17ac48328bf07a4c6bbf4386",
       "style": "IPY_MODEL_cae0d9b30a044bcdbb4646d2a824b06f",
       "value": true
      }
     },
     "60bf9fcb59ec405fbb5f47ca2b2cd2ff": {
      "model_module": "@jupyter-widgets/controls",
      "model_module_version": "1.5.0",
      "model_name": "DescriptionStyleModel",
      "state": {
       "description_width": ""
      }
     },
     "617d2172171e4d4295d316b69ab86083": {
      "model_module": "@jupyter-widgets/base",
      "model_module_version": "1.2.0",
      "model_name": "LayoutModel",
      "state": {}
     },
     "621d72d9ceb64f6b9f572825a27fda66": {
      "model_module": "@jupyter-widgets/controls",
      "model_module_version": "1.5.0",
      "model_name": "HBoxModel",
      "state": {
       "children": [
        "IPY_MODEL_d64846289c504d8e8f987735ad9b7193",
        "IPY_MODEL_6c83e6dedd294a478c56df290514358a"
       ],
       "layout": "IPY_MODEL_9b3629d60a1e469c9b150e73acbe522f"
      }
     },
     "62f553a78f054e12b3857301bdac6ea5": {
      "model_module": "@jupyter-widgets/base",
      "model_module_version": "1.2.0",
      "model_name": "LayoutModel",
      "state": {}
     },
     "654babd4900b4e1d91e2eb5889a5db49": {
      "model_module": "@jupyter-widgets/base",
      "model_module_version": "1.2.0",
      "model_name": "LayoutModel",
      "state": {}
     },
     "685725f89f1641c8b085d03c99ba82ea": {
      "model_module": "@jupyter-widgets/controls",
      "model_module_version": "1.5.0",
      "model_name": "CheckboxModel",
      "state": {
       "description": "Downsampling/Upsampling",
       "disabled": false,
       "layout": "IPY_MODEL_ca2a5c146b3940dfa54f8d9e2a1d632e",
       "style": "IPY_MODEL_9e74c9c50b0a4365955d014c45089f3d",
       "value": false
      }
     },
     "6a3bf4da31de478d94493fb7e7bf2612": {
      "model_module": "@jupyter-widgets/base",
      "model_module_version": "1.2.0",
      "model_name": "LayoutModel",
      "state": {}
     },
     "6c83e6dedd294a478c56df290514358a": {
      "model_module": "@jupyter-widgets/controls",
      "model_module_version": "1.5.0",
      "model_name": "CheckboxModel",
      "state": {
       "description": "LP Filters",
       "disabled": false,
       "layout": "IPY_MODEL_77a3a9c35f1e4941ba0b18aa1c156805",
       "style": "IPY_MODEL_40f5f1c9812d45788c32d8c02dc2502c",
       "value": false
      }
     },
     "6d73d4cf74ba46ac88131cf8818b7812": {
      "model_module": "@jupyter-widgets/base",
      "model_module_version": "1.2.0",
      "model_name": "LayoutModel",
      "state": {}
     },
     "6f85734c28af439a8da835c83e71c0c6": {
      "model_module": "@jupyter-widgets/controls",
      "model_module_version": "1.5.0",
      "model_name": "ButtonModel",
      "state": {
       "description": "Stop",
       "layout": "IPY_MODEL_617d2172171e4d4295d316b69ab86083",
       "style": "IPY_MODEL_1d77796b884c4861a25db47632b8d489"
      }
     },
     "6f86b5e8c23b4820bba2a6a839d624b3": {
      "model_module": "@jupyter-widgets/controls",
      "model_module_version": "1.5.0",
      "model_name": "DescriptionStyleModel",
      "state": {
       "description_width": ""
      }
     },
     "6fdb7d274eab44d2aaf38dd4dcfa0511": {
      "model_module": "@jupyter-widgets/base",
      "model_module_version": "1.2.0",
      "model_name": "LayoutModel",
      "state": {}
     },
     "72a59b1fcaff4177ba91b8edb4fb23bd": {
      "model_module": "@jupyter-widgets/controls",
      "model_module_version": "1.5.0",
      "model_name": "CheckboxModel",
      "state": {
       "description": "Downsampling with Zeros",
       "disabled": false,
       "layout": "IPY_MODEL_1372b726ab434f9b89571f6da34c9e62",
       "style": "IPY_MODEL_2aa28291b0e94968b90bc072bad5692c",
       "value": false
      }
     },
     "739b843557fd4432826a28261e5b827e": {
      "model_module": "@jupyter-widgets/controls",
      "model_module_version": "1.5.0",
      "model_name": "CheckboxModel",
      "state": {
       "description": "Downsampling with Zeros",
       "disabled": false,
       "layout": "IPY_MODEL_98cc8cdb6e87466a8f357e995b2a13e9",
       "style": "IPY_MODEL_224bcb4dea094163994aaa3f0121c825",
       "value": false
      }
     },
     "73b4db0032014d44a57d71fb87786ee8": {
      "model_module": "@jupyter-widgets/controls",
      "model_module_version": "1.5.0",
      "model_name": "CheckboxModel",
      "state": {
       "description": "Downsampling with Zeros",
       "disabled": false,
       "layout": "IPY_MODEL_446d80c629a24e2fa2136e03dfc9d28b",
       "style": "IPY_MODEL_4db559233bc54c04b701ff71ebc1d55d",
       "value": false
      }
     },
     "779d357055284d7d839ee1ba611221e8": {
      "model_module": "@jupyter-widgets/base",
      "model_module_version": "1.2.0",
      "model_name": "LayoutModel",
      "state": {}
     },
     "77a3a9c35f1e4941ba0b18aa1c156805": {
      "model_module": "@jupyter-widgets/base",
      "model_module_version": "1.2.0",
      "model_name": "LayoutModel",
      "state": {}
     },
     "7836a2e5f5404d26ac461945a2ea0619": {
      "model_module": "@jupyter-widgets/controls",
      "model_module_version": "1.5.0",
      "model_name": "CheckboxModel",
      "state": {
       "description": "Downsampling with Zeros",
       "disabled": false,
       "layout": "IPY_MODEL_e8f0676ca8644d3ea28ffb8dd3c7964a",
       "style": "IPY_MODEL_dbd4fc6f05344d3893968667ea288e00",
       "value": true
      }
     },
     "78c567360a394eb19dabc832927f8693": {
      "model_module": "@jupyter-widgets/base",
      "model_module_version": "1.2.0",
      "model_name": "LayoutModel",
      "state": {}
     },
     "7bec54694ea94b16aa7ddae3004a6907": {
      "model_module": "@jupyter-widgets/controls",
      "model_module_version": "1.5.0",
      "model_name": "HBoxModel",
      "state": {
       "children": [
        "IPY_MODEL_238506e028044b5b881ef74c8ad59846"
       ],
       "layout": "IPY_MODEL_234045dd6a114ecda45e0086e0d54e99"
      }
     },
     "7f64dea70b79470aa30508c8f0c20150": {
      "model_module": "@jupyter-widgets/controls",
      "model_module_version": "1.5.0",
      "model_name": "ToggleButtonModel",
      "state": {
       "description": "Stop",
       "layout": "IPY_MODEL_779d357055284d7d839ee1ba611221e8",
       "style": "IPY_MODEL_81f45b5f76104f8a980503f3e39332bb",
       "value": true
      }
     },
     "81f45b5f76104f8a980503f3e39332bb": {
      "model_module": "@jupyter-widgets/controls",
      "model_module_version": "1.5.0",
      "model_name": "DescriptionStyleModel",
      "state": {
       "description_width": ""
      }
     },
     "820b6ffb22ae473a80cbddf1c517200e": {
      "model_module": "@jupyter-widgets/controls",
      "model_module_version": "1.5.0",
      "model_name": "DescriptionStyleModel",
      "state": {
       "description_width": ""
      }
     },
     "827b4767fde3485eb5c2b84a93302b94": {
      "model_module": "@jupyter-widgets/base",
      "model_module_version": "1.2.0",
      "model_name": "LayoutModel",
      "state": {}
     },
     "8408a8de6a2c4f8398edf82d90315e5d": {
      "model_module": "@jupyter-widgets/controls",
      "model_module_version": "1.5.0",
      "model_name": "DescriptionStyleModel",
      "state": {
       "description_width": ""
      }
     },
     "85e6d70dffce42e6a4aa4b78d1ea1b06": {
      "model_module": "@jupyter-widgets/controls",
      "model_module_version": "1.5.0",
      "model_name": "CheckboxModel",
      "state": {
       "description": "Downsampling with Zeros",
       "disabled": false,
       "layout": "IPY_MODEL_4d6e3265944e4f37932251a700e7d2e3",
       "style": "IPY_MODEL_3dfa9b2704014d8ebad48087ee6a6911",
       "value": false
      }
     },
     "871bbe95a8ea4558b49bc26ddbde6564": {
      "model_module": "@jupyter-widgets/controls",
      "model_module_version": "1.5.0",
      "model_name": "DescriptionStyleModel",
      "state": {
       "description_width": ""
      }
     },
     "891ef90cdff34fc7ba92d2967d68b10d": {
      "model_module": "@jupyter-widgets/controls",
      "model_module_version": "1.5.0",
      "model_name": "DescriptionStyleModel",
      "state": {
       "description_width": ""
      }
     },
     "89d29651e3da4f80ade582061a753d91": {
      "model_module": "@jupyter-widgets/controls",
      "model_module_version": "1.5.0",
      "model_name": "ToggleButtonModel",
      "state": {
       "description": "Stop",
       "layout": "IPY_MODEL_2c0c1ccee30d431c9040ada58fd71129",
       "style": "IPY_MODEL_50e455fde9824f468875e0b897625f4c",
       "value": true
      }
     },
     "8aeb4d884e904dfe8c13404fefd0ef6f": {
      "model_module": "@jupyter-widgets/controls",
      "model_module_version": "1.5.0",
      "model_name": "BoundedIntTextModel",
      "state": {
       "description": "Bit-Depth:",
       "layout": "IPY_MODEL_a512d148087f4555b6bceeca8d4ea7a2",
       "max": 16,
       "min": 2,
       "style": "IPY_MODEL_5254bdb17cad4908be4e921410737e7b",
       "value": 8
      }
     },
     "8bfde2f187c84f8c936d80d6ab9dd110": {
      "model_module": "@jupyter-widgets/base",
      "model_module_version": "1.2.0",
      "model_name": "LayoutModel",
      "state": {}
     },
     "8f63fda556ae49eea3ef4be03fdd736a": {
      "model_module": "@jupyter-widgets/controls",
      "model_module_version": "1.5.0",
      "model_name": "ToggleButtonModel",
      "state": {
       "description": "Stop",
       "layout": "IPY_MODEL_ae6ab56d84d049e8b3a4a6453ee62cb7",
       "style": "IPY_MODEL_34f16d143e48488090e222e4ed23e9b8"
      }
     },
     "91e6c77a2bc3420db431bce939a148b9": {
      "model_module": "@jupyter-widgets/controls",
      "model_module_version": "1.5.0",
      "model_name": "ButtonStyleModel",
      "state": {}
     },
     "94b8806eb4eb41c29262f6f79153bdaa": {
      "model_module": "@jupyter-widgets/base",
      "model_module_version": "1.2.0",
      "model_name": "LayoutModel",
      "state": {}
     },
     "98cc8cdb6e87466a8f357e995b2a13e9": {
      "model_module": "@jupyter-widgets/base",
      "model_module_version": "1.2.0",
      "model_name": "LayoutModel",
      "state": {}
     },
     "9b3629d60a1e469c9b150e73acbe522f": {
      "model_module": "@jupyter-widgets/base",
      "model_module_version": "1.2.0",
      "model_name": "LayoutModel",
      "state": {}
     },
     "9c4b56ddf19442b3b28b2fe1942603fb": {
      "model_module": "@jupyter-widgets/controls",
      "model_module_version": "1.5.0",
      "model_name": "ToggleButtonModel",
      "state": {
       "description": "Stop",
       "layout": "IPY_MODEL_1faa0ab334e449a3b270651f437a8cea",
       "style": "IPY_MODEL_571445d534c84d6c89e6c1c26924cf48"
      }
     },
     "9e41a52328224716afc6e66f01c14e6e": {
      "model_module": "@jupyter-widgets/controls",
      "model_module_version": "1.5.0",
      "model_name": "DescriptionStyleModel",
      "state": {
       "description_width": ""
      }
     },
     "9e74c9c50b0a4365955d014c45089f3d": {
      "model_module": "@jupyter-widgets/controls",
      "model_module_version": "1.5.0",
      "model_name": "DescriptionStyleModel",
      "state": {
       "description_width": ""
      }
     },
     "9eefd0731f5c4392a5acde7f1e933fd5": {
      "model_module": "@jupyter-widgets/base",
      "model_module_version": "1.2.0",
      "model_name": "LayoutModel",
      "state": {}
     },
     "9f78322c7cf546b597b13c356e705f34": {
      "model_module": "@jupyter-widgets/base",
      "model_module_version": "1.2.0",
      "model_name": "LayoutModel",
      "state": {}
     },
     "a0921903eab34a20a4e50c813e09b315": {
      "model_module": "@jupyter-widgets/controls",
      "model_module_version": "1.5.0",
      "model_name": "CheckboxModel",
      "state": {
       "description": "LP Filters",
       "disabled": false,
       "layout": "IPY_MODEL_a5536c11df0c4e24a865ceba8c76e00c",
       "style": "IPY_MODEL_871bbe95a8ea4558b49bc26ddbde6564",
       "value": false
      }
     },
     "a105b9301e4e467b8f27efd88b0dd027": {
      "model_module": "@jupyter-widgets/controls",
      "model_module_version": "1.5.0",
      "model_name": "CheckboxModel",
      "state": {
       "description": "$\\mu$-Law",
       "disabled": false,
       "layout": "IPY_MODEL_02c9485b88554eb9992be45d9860b92e",
       "style": "IPY_MODEL_37389e5b17cf48e3a0021f24e6b830b3",
       "value": false
      }
     },
     "a1f23f60b3804a438ade7232ff60fcbb": {
      "model_module": "@jupyter-widgets/base",
      "model_module_version": "1.2.0",
      "model_name": "LayoutModel",
      "state": {}
     },
     "a512d148087f4555b6bceeca8d4ea7a2": {
      "model_module": "@jupyter-widgets/base",
      "model_module_version": "1.2.0",
      "model_name": "LayoutModel",
      "state": {}
     },
     "a5536c11df0c4e24a865ceba8c76e00c": {
      "model_module": "@jupyter-widgets/base",
      "model_module_version": "1.2.0",
      "model_name": "LayoutModel",
      "state": {}
     },
     "aa489c5c6242430bb9ef76d4460d61b5": {
      "model_module": "@jupyter-widgets/base",
      "model_module_version": "1.2.0",
      "model_name": "LayoutModel",
      "state": {}
     },
     "aba73fc98ae34b8e965b730c3c422205": {
      "model_module": "@jupyter-widgets/base",
      "model_module_version": "1.2.0",
      "model_name": "LayoutModel",
      "state": {}
     },
     "ac6761b1029f4396b7cb75e365186389": {
      "model_module": "@jupyter-widgets/base",
      "model_module_version": "1.2.0",
      "model_name": "LayoutModel",
      "state": {}
     },
     "ad19b104bd2c4274827935f0bc642e1c": {
      "model_module": "@jupyter-widgets/controls",
      "model_module_version": "1.5.0",
      "model_name": "DropdownModel",
      "state": {
       "_options_labels": [
        "Mid-Tread",
        "Mid-Rise"
       ],
       "description": "Quantization Type:",
       "index": 0,
       "layout": "IPY_MODEL_476db36e2ef8495598b90265cb380580",
       "style": "IPY_MODEL_c7f454f84a4c4ffabeca0e6b66fd00c4"
      }
     },
     "ae6ab56d84d049e8b3a4a6453ee62cb7": {
      "model_module": "@jupyter-widgets/base",
      "model_module_version": "1.2.0",
      "model_name": "LayoutModel",
      "state": {}
     },
     "b7257f546d6542c08e06a519a7cfcff9": {
      "model_module": "@jupyter-widgets/base",
      "model_module_version": "1.2.0",
      "model_name": "LayoutModel",
      "state": {}
     },
     "bbd61feea0244b1b8fc79616ee1afa8d": {
      "model_module": "@jupyter-widgets/controls",
      "model_module_version": "1.5.0",
      "model_name": "ToggleButtonModel",
      "state": {
       "description": "Stop",
       "layout": "IPY_MODEL_4006adeda1664c4a86f0139ba481db11",
       "style": "IPY_MODEL_5be8b143e4fd48c4bf4c2db74d00f21a"
      }
     },
     "bdb731b1250b48f6b81ae85d8318b6dc": {
      "model_module": "@jupyter-widgets/controls",
      "model_module_version": "1.5.0",
      "model_name": "ButtonStyleModel",
      "state": {}
     },
     "bdf1e78c0a3e4c3eb3f8115bcb122042": {
      "model_module": "@jupyter-widgets/controls",
      "model_module_version": "1.5.0",
      "model_name": "DescriptionStyleModel",
      "state": {
       "description_width": ""
      }
     },
     "bf97deef015c4827a8967a671813f149": {
      "model_module": "@jupyter-widgets/controls",
      "model_module_version": "1.5.0",
      "model_name": "ToggleButtonModel",
      "state": {
       "description": "Stop",
       "layout": "IPY_MODEL_aa489c5c6242430bb9ef76d4460d61b5",
       "style": "IPY_MODEL_1a8f9d0d68954f4fa2ce1361633bde98"
      }
     },
     "c1920bdff8b14c4fa8e114b3921d9ade": {
      "model_module": "@jupyter-widgets/controls",
      "model_module_version": "1.5.0",
      "model_name": "HBoxModel",
      "state": {
       "children": [
        "IPY_MODEL_4181a03ad26243f18c1afcbac62c4b93"
       ],
       "layout": "IPY_MODEL_a1f23f60b3804a438ade7232ff60fcbb"
      }
     },
     "c47984031d354d7bb041c39975e4cb8c": {
      "model_module": "@jupyter-widgets/controls",
      "model_module_version": "1.5.0",
      "model_name": "ToggleButtonModel",
      "state": {
       "description": "Stop",
       "layout": "IPY_MODEL_3c934745843a4bdb9ecd61d569af4ee9",
       "style": "IPY_MODEL_015addf4649b4d41b3ee5a4e08b1feef",
       "value": true
      }
     },
     "c4d45858b9284681914cf8fde9407c40": {
      "model_module": "@jupyter-widgets/controls",
      "model_module_version": "1.5.0",
      "model_name": "DescriptionStyleModel",
      "state": {
       "description_width": ""
      }
     },
     "c63e57f2060841f7aa9fb386480ae645": {
      "model_module": "@jupyter-widgets/base",
      "model_module_version": "1.2.0",
      "model_name": "LayoutModel",
      "state": {}
     },
     "c7d3112a971e4497b7fd873765aed42d": {
      "model_module": "@jupyter-widgets/base",
      "model_module_version": "1.2.0",
      "model_name": "LayoutModel",
      "state": {}
     },
     "c7f454f84a4c4ffabeca0e6b66fd00c4": {
      "model_module": "@jupyter-widgets/controls",
      "model_module_version": "1.5.0",
      "model_name": "DescriptionStyleModel",
      "state": {
       "description_width": ""
      }
     },
     "c85902faf6af47779f333db52146d897": {
      "model_module": "@jupyter-widgets/base",
      "model_module_version": "1.2.0",
      "model_name": "LayoutModel",
      "state": {}
     },
     "ca2a5c146b3940dfa54f8d9e2a1d632e": {
      "model_module": "@jupyter-widgets/base",
      "model_module_version": "1.2.0",
      "model_name": "LayoutModel",
      "state": {}
     },
     "cae0d9b30a044bcdbb4646d2a824b06f": {
      "model_module": "@jupyter-widgets/controls",
      "model_module_version": "1.5.0",
      "model_name": "DescriptionStyleModel",
      "state": {
       "description_width": ""
      }
     },
     "cbfa24b75cc64fddbd7a4eab87c56c46": {
      "model_module": "@jupyter-widgets/controls",
      "model_module_version": "1.5.0",
      "model_name": "HBoxModel",
      "state": {
       "children": [
        "IPY_MODEL_fe565191de1540f5b0197219c460af56",
        "IPY_MODEL_8f63fda556ae49eea3ef4be03fdd736a",
        "IPY_MODEL_a105b9301e4e467b8f27efd88b0dd027"
       ],
       "layout": "IPY_MODEL_1b001b2ac3e847549ef031ffa10555a7"
      }
     },
     "cbfc931a5e68487a91bda9c791d27a54": {
      "model_module": "@jupyter-widgets/base",
      "model_module_version": "1.2.0",
      "model_name": "LayoutModel",
      "state": {}
     },
     "cff4dfddc8ee4f25a80a855bdc65994f": {
      "model_module": "@jupyter-widgets/base",
      "model_module_version": "1.2.0",
      "model_name": "LayoutModel",
      "state": {}
     },
     "d046acb785354559af032e98c929b4b8": {
      "model_module": "@jupyter-widgets/controls",
      "model_module_version": "1.5.0",
      "model_name": "ToggleButtonModel",
      "state": {
       "description": "Stop",
       "disabled": true,
       "layout": "IPY_MODEL_1171b6ca805c463b872b71564b229ae0",
       "style": "IPY_MODEL_820b6ffb22ae473a80cbddf1c517200e",
       "value": true
      }
     },
     "d2a3e1a11bc648cbac44ac8d661fcaae": {
      "model_module": "@jupyter-widgets/controls",
      "model_module_version": "1.5.0",
      "model_name": "ToggleButtonModel",
      "state": {
       "description": "Stop",
       "disabled": true,
       "layout": "IPY_MODEL_c7d3112a971e4497b7fd873765aed42d",
       "style": "IPY_MODEL_2f2f8d6d9d194d8d81aa9445ae96bc2a",
       "value": true
      }
     },
     "d3450ad02abc46db9032268bf51cf3a2": {
      "model_module": "@jupyter-widgets/controls",
      "model_module_version": "1.5.0",
      "model_name": "DescriptionStyleModel",
      "state": {
       "description_width": ""
      }
     },
     "d559cd1da181460381dcc77443386833": {
      "model_module": "@jupyter-widgets/controls",
      "model_module_version": "1.5.0",
      "model_name": "ButtonStyleModel",
      "state": {}
     },
     "d64846289c504d8e8f987735ad9b7193": {
      "model_module": "@jupyter-widgets/controls",
      "model_module_version": "1.5.0",
      "model_name": "CheckboxModel",
      "state": {
       "description": "Downsampling/Upsampling",
       "disabled": false,
       "layout": "IPY_MODEL_ac6761b1029f4396b7cb75e365186389",
       "style": "IPY_MODEL_bdf1e78c0a3e4c3eb3f8115bcb122042",
       "value": false
      }
     },
     "d768baa1b42743999d0fb702cc36436b": {
      "model_module": "@jupyter-widgets/controls",
      "model_module_version": "1.5.0",
      "model_name": "ToggleButtonModel",
      "state": {
       "description": "Stop",
       "layout": "IPY_MODEL_510465f7cad54c2db0e18fd7acd3311a",
       "style": "IPY_MODEL_c4d45858b9284681914cf8fde9407c40"
      }
     },
     "d95070f8b850416a89d74dc9a6e333a2": {
      "model_module": "@jupyter-widgets/controls",
      "model_module_version": "1.5.0",
      "model_name": "ButtonModel",
      "state": {
       "description": "Start",
       "layout": "IPY_MODEL_f7301a2935d843d6935c71d06d36976c",
       "style": "IPY_MODEL_4dc960d6ae284c63a5b0fdf32b5572f4"
      }
     },
     "da223fb00a7e46f6a12a63b53e4f3d9c": {
      "model_module": "@jupyter-widgets/controls",
      "model_module_version": "1.5.0",
      "model_name": "ButtonStyleModel",
      "state": {}
     },
     "dae75bebe0544ee88cd1071b3f87ff71": {
      "model_module": "@jupyter-widgets/controls",
      "model_module_version": "1.5.0",
      "model_name": "DescriptionStyleModel",
      "state": {
       "description_width": ""
      }
     },
     "dbd4fc6f05344d3893968667ea288e00": {
      "model_module": "@jupyter-widgets/controls",
      "model_module_version": "1.5.0",
      "model_name": "DescriptionStyleModel",
      "state": {
       "description_width": ""
      }
     },
     "dc77a42f93fd481294243d614e2c45ef": {
      "model_module": "@jupyter-widgets/controls",
      "model_module_version": "1.5.0",
      "model_name": "ToggleButtonModel",
      "state": {
       "description": "Stop",
       "layout": "IPY_MODEL_6fdb7d274eab44d2aaf38dd4dcfa0511",
       "style": "IPY_MODEL_0b9a6a693871477ebf610c47a13ce72a",
       "value": true
      }
     },
     "de9e07584c354bc6a1a2956f2aa5b60b": {
      "model_module": "@jupyter-widgets/controls",
      "model_module_version": "1.5.0",
      "model_name": "HBoxModel",
      "state": {
       "children": [
        "IPY_MODEL_685725f89f1641c8b085d03c99ba82ea",
        "IPY_MODEL_a0921903eab34a20a4e50c813e09b315"
       ],
       "layout": "IPY_MODEL_6d73d4cf74ba46ac88131cf8818b7812"
      }
     },
     "e099daeead614c06ba66a3b6aa2a6519": {
      "model_module": "@jupyter-widgets/base",
      "model_module_version": "1.2.0",
      "model_name": "LayoutModel",
      "state": {}
     },
     "e139e8ce24694bdda7967b2165ee342c": {
      "model_module": "@jupyter-widgets/controls",
      "model_module_version": "1.5.0",
      "model_name": "ToggleButtonModel",
      "state": {
       "description": "Stop",
       "layout": "IPY_MODEL_94b8806eb4eb41c29262f6f79153bdaa",
       "style": "IPY_MODEL_dae75bebe0544ee88cd1071b3f87ff71",
       "value": true
      }
     },
     "e1e25ba72c6a4321bcef7f3aecc60a29": {
      "model_module": "@jupyter-widgets/controls",
      "model_module_version": "1.5.0",
      "model_name": "HBoxModel",
      "state": {
       "children": [
        "IPY_MODEL_d95070f8b850416a89d74dc9a6e333a2",
        "IPY_MODEL_9c4b56ddf19442b3b28b2fe1942603fb"
       ],
       "layout": "IPY_MODEL_62f553a78f054e12b3857301bdac6ea5"
      }
     },
     "e51f5a36e4394ed689235a9794c618c1": {
      "model_module": "@jupyter-widgets/controls",
      "model_module_version": "1.5.0",
      "model_name": "CheckboxModel",
      "state": {
       "description": "Downsampling with Zeros",
       "disabled": false,
       "layout": "IPY_MODEL_b7257f546d6542c08e06a519a7cfcff9",
       "style": "IPY_MODEL_0124c108c90b41408309aa3aac820c5d",
       "value": true
      }
     },
     "e5505837f6154a0cae1a17c207323d4e": {
      "model_module": "@jupyter-widgets/controls",
      "model_module_version": "1.5.0",
      "model_name": "ToggleButtonModel",
      "state": {
       "description": "Stop",
       "disabled": true,
       "layout": "IPY_MODEL_36cef02e3ac343f597afecf7a0da19c4",
       "style": "IPY_MODEL_60bf9fcb59ec405fbb5f47ca2b2cd2ff",
       "value": true
      }
     },
     "e5d441cf0b974fe5926d4f430e662b4a": {
      "model_module": "@jupyter-widgets/controls",
      "model_module_version": "1.5.0",
      "model_name": "CheckboxModel",
      "state": {
       "description": "Downsampling with Zeros",
       "disabled": false,
       "layout": "IPY_MODEL_11649f3e118b4488af7188e4a8e73291",
       "style": "IPY_MODEL_367c6ac4f00e4104ba6837f8104dfb9f",
       "value": false
      }
     },
     "e7ffbebd8eea4250a1ff0c0a7ae94732": {
      "model_module": "@jupyter-widgets/base",
      "model_module_version": "1.2.0",
      "model_name": "LayoutModel",
      "state": {}
     },
     "e8f0676ca8644d3ea28ffb8dd3c7964a": {
      "model_module": "@jupyter-widgets/base",
      "model_module_version": "1.2.0",
      "model_name": "LayoutModel",
      "state": {}
     },
     "e9d3c86d3a7c49b799bdcc77191aa62a": {
      "model_module": "@jupyter-widgets/controls",
      "model_module_version": "1.5.0",
      "model_name": "ButtonModel",
      "state": {
       "description": "Stop",
       "layout": "IPY_MODEL_14f182217bd54f0eab515df20a2b5138",
       "style": "IPY_MODEL_da223fb00a7e46f6a12a63b53e4f3d9c"
      }
     },
     "ec805846f5734669b7fcc4fd0ea88cde": {
      "model_module": "@jupyter-widgets/controls",
      "model_module_version": "1.5.0",
      "model_name": "DescriptionStyleModel",
      "state": {
       "description_width": ""
      }
     },
     "ec8397c2b6e5444587135da33d9144fd": {
      "model_module": "@jupyter-widgets/base",
      "model_module_version": "1.2.0",
      "model_name": "LayoutModel",
      "state": {}
     },
     "ed77555d42174939b93bb3c62ced72a0": {
      "model_module": "@jupyter-widgets/controls",
      "model_module_version": "1.5.0",
      "model_name": "CheckboxModel",
      "state": {
       "description": "Downsampling with Zeros",
       "disabled": false,
       "layout": "IPY_MODEL_9f78322c7cf546b597b13c356e705f34",
       "style": "IPY_MODEL_891ef90cdff34fc7ba92d2967d68b10d",
       "value": false
      }
     },
     "f185bf89a1464b86b18aeb1e09ed6db6": {
      "model_module": "@jupyter-widgets/base",
      "model_module_version": "1.2.0",
      "model_name": "LayoutModel",
      "state": {}
     },
     "f2232b0768124cf1804c9bc977ca3bc6": {
      "model_module": "@jupyter-widgets/controls",
      "model_module_version": "1.5.0",
      "model_name": "ButtonModel",
      "state": {
       "description": "Stop",
       "layout": "IPY_MODEL_aba73fc98ae34b8e965b730c3c422205",
       "style": "IPY_MODEL_bdb731b1250b48f6b81ae85d8318b6dc"
      }
     },
     "f2a8b23362844b65b7cc51c15b54f5cc": {
      "model_module": "@jupyter-widgets/controls",
      "model_module_version": "1.5.0",
      "model_name": "ToggleButtonModel",
      "state": {
       "description": "Stop",
       "layout": "IPY_MODEL_e7ffbebd8eea4250a1ff0c0a7ae94732",
       "style": "IPY_MODEL_d3450ad02abc46db9032268bf51cf3a2",
       "value": true
      }
     },
     "f469e7d7b4a541af8a5340dd1d099999": {
      "model_module": "@jupyter-widgets/base",
      "model_module_version": "1.2.0",
      "model_name": "LayoutModel",
      "state": {}
     },
     "f6566c5300744aa18d1396449e916c5b": {
      "model_module": "@jupyter-widgets/controls",
      "model_module_version": "1.5.0",
      "model_name": "HBoxModel",
      "state": {
       "children": [
        "IPY_MODEL_8aeb4d884e904dfe8c13404fefd0ef6f"
       ],
       "layout": "IPY_MODEL_cff4dfddc8ee4f25a80a855bdc65994f"
      }
     },
     "f7301a2935d843d6935c71d06d36976c": {
      "model_module": "@jupyter-widgets/base",
      "model_module_version": "1.2.0",
      "model_name": "LayoutModel",
      "state": {}
     },
     "f7e7bb40afba4448b0c4506aed91c05a": {
      "model_module": "@jupyter-widgets/controls",
      "model_module_version": "1.5.0",
      "model_name": "HBoxModel",
      "state": {
       "children": [
        "IPY_MODEL_010411b23dde4ac9b0a3030e14cf116a",
        "IPY_MODEL_d768baa1b42743999d0fb702cc36436b",
        "IPY_MODEL_462478cddfff483e922a3aa095a2e610"
       ],
       "layout": "IPY_MODEL_0fbffec0398544c78cc392a8f3387f8e"
      }
     },
     "f832049896fd43d3a027ac200b0d333a": {
      "model_module": "@jupyter-widgets/controls",
      "model_module_version": "1.5.0",
      "model_name": "DescriptionStyleModel",
      "state": {
       "description_width": ""
      }
     },
     "fac6a0a2658c463f99385b30036c7279": {
      "model_module": "@jupyter-widgets/base",
      "model_module_version": "1.2.0",
      "model_name": "LayoutModel",
      "state": {}
     },
     "fe565191de1540f5b0197219c460af56": {
      "model_module": "@jupyter-widgets/controls",
      "model_module_version": "1.5.0",
      "model_name": "ButtonModel",
      "state": {
       "description": "Start",
       "layout": "IPY_MODEL_654babd4900b4e1d91e2eb5889a5db49",
       "style": "IPY_MODEL_d559cd1da181460381dcc77443386833"
      }
     }
    },
    "version_major": 2,
    "version_minor": 0
   }
  }
 },
 "nbformat": 4,
 "nbformat_minor": 2
}
