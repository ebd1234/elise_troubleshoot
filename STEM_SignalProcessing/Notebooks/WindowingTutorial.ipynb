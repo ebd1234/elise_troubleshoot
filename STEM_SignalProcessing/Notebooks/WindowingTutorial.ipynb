{
 "cells": [
  {
   "cell_type": "markdown",
   "metadata": {},
   "source": [
    "# Windowing Tutorial\n",
    "\n",
    "Reference: DT2119 Speech and Speaker Recognition, Giampiero Salvi\n",
    "Licence: CC-BY-NC-SA: Attribution Noncommercial Share Alike\n",
    "\n",
    "We will test the effect of using the hamming window on a sinusoidal signal of a certain frequency. You can vary the window lenght in time, the frequency of the signal, and the lenght of the FFT to check the effect of those parameters"
   ]
  },
  {
   "cell_type": "code",
   "execution_count": null,
   "metadata": {},
   "outputs": [],
   "source": [
    "# Import required libraries\n",
    "import numpy as np\n",
    "from scipy.fftpack import fft\n",
    "from scipy.signal import hamming\n",
    "import matplotlib.pyplot as plt\n",
    "%matplotlib inline"
   ]
  },
  {
   "cell_type": "code",
   "execution_count": null,
   "metadata": {
    "scrolled": false
   },
   "outputs": [],
   "source": [
    "# define parameters\n",
    "samplingrate = 20000.0\n",
    "tonefreq = 2000.0                               # way below the Nyquist frequency\n",
    "winlen = 400                                    # lenght in samples (seconds=winlen/samplingrate)\n",
    "fftlen = 2**10\n",
    "t = np.arange(winlen)/samplingrate              # time axis\n",
    "f = np.arange(fftlen/2)*samplingrate/fftlen     # frequency axis (up to Nyquist frequency)"
   ]
  },
  {
   "cell_type": "code",
   "execution_count": null,
   "metadata": {},
   "outputs": [],
   "source": [
    "# generate signals\n",
    "sig = np.sin(2*np.pi*tonefreq*t)\n",
    "hamwin = hamming(winlen)\n",
    "hamsig = sig * hamwin"
   ]
  },
  {
   "cell_type": "code",
   "execution_count": null,
   "metadata": {},
   "outputs": [],
   "source": [
    "# plot signals in time domain\n",
    "plt.plot(t*1000, sig, label='rectangular window')\n",
    "plt.plot(t*1000, hamsig, 'r', label='hamming window')\n",
    "plt.ylim([-1.1, 1.1])\n",
    "plt.legend()\n",
    "plt.xlabel('milliseconds')\n",
    "plt.ylabel('amplitude')\n",
    "plt.show()"
   ]
  },
  {
   "cell_type": "markdown",
   "metadata": {
    "slideshow": {
     "slide_type": "slide"
    }
   },
   "source": [
    "What are the differences between the rectangular window and the hamming window applies to the signal?\n",
    "\n",
    "Now let's look at the two windowed signals in the frequency domain:"
   ]
  },
  {
   "cell_type": "code",
   "execution_count": null,
   "metadata": {},
   "outputs": [],
   "source": [
    "# go to frequency domain\n",
    "reclogfft = np.log(np.abs(fft(sig, n=fftlen)))\n",
    "hamlogfft = np.log(np.abs(fft(hamsig, n=fftlen)))\n",
    "plt.plot(f, reclogfft[0:fftlen//2], label='rectangular window')\n",
    "plt.plot(f, hamlogfft[0:fftlen//2], 'r', label='hamming window')\n",
    "plt.xlabel('frequency (Hz)')\n",
    "plt.ylabel('log magnitude spectrum')\n",
    "plt.ylim([-10, np.max(reclogfft)+1])\n",
    "plt.legend()\n",
    "plt.show()"
   ]
  },
  {
   "cell_type": "markdown",
   "metadata": {
    "slideshow": {
     "slide_type": "slide"
    }
   },
   "source": [
    "What do you observe as different between the two windowed signals in the frequency domain overall? What about the peak values in the main lobe, are they the same? or different? Why do you think that is?\n",
    "\n",
    "Now let's zoom in really close to the peak or main lobe for both signals:"
   ]
  },
  {
   "cell_type": "code",
   "execution_count": null,
   "metadata": {},
   "outputs": [],
   "source": [
    "# zoom in\n",
    "plt.plot(f, reclogfft[0:fftlen//2], label='rectangular window')\n",
    "plt.plot(f, hamlogfft[0:fftlen//2], 'r', label='hamming window')\n",
    "plt.xlabel('frequency (Hz)')\n",
    "plt.ylabel('log magnitude spectrum')\n",
    "plt.ylim([-3, np.max(reclogfft)+1])\n",
    "binsinlobe = samplingrate/fftlen*10\n",
    "plt.xlim(np.int(tonefreq)+np.array([-1, 1])*binsinlobe)\n",
    "plt.show()\n"
   ]
  },
  {
   "cell_type": "markdown",
   "metadata": {},
   "source": [
    "## Discussion\n",
    "Because we are dealing with a finite portion of the signal (instead of a sinusoid from -inf to +inf) we only have <b>limited resolution in frequency</b>. This is the signal processing version of the Heisenberg's uncertainty principle: trade-off between time and frequency resolution. Because of this, the FFT will not only show the energy of the signal at the frequency of the sinusoid, but it will show a primary \"lobe\" at that frequency and a number of secondary lobes, depending on the lenght of the window. The primary lobe for the hamming window is slighlty wider than for the rectangular window. However the side lobes are much lower. This means that if we have several tones at different frequencies, they will interfere less with one another.\n",
    "\n",
    "## Extra exercises:\n",
    "<ul>\n",
    "<li>Uncertainty principle: change the window and the fft lengths and see how the lobes change in width.</li>\n",
    "<li>Inteference: define two sinusoids at different frequencies f1 and f2 and compare the value of the FFT at f1 and f2 for the single signals and for the combination of signals. How does this vary with the distance between f1 and f2?</li>\n",
    "<li>Window shapes: test with different window definitions: hamming, hanning, cosine... You find the complete list of available windows in the documentation of <tt>scipy.signal</tt></li>\n",
    "</ul>"
   ]
  },
  {
   "cell_type": "code",
   "execution_count": null,
   "metadata": {},
   "outputs": [],
   "source": []
  }
 ],
 "metadata": {
  "anaconda-cloud": {},
  "celltoolbar": "Slideshow",
  "kernelspec": {
   "display_name": "Python 3",
   "language": "python",
   "name": "python3"
  },
  "language_info": {
   "codemirror_mode": {
    "name": "ipython",
    "version": 3
   },
   "file_extension": ".py",
   "mimetype": "text/x-python",
   "name": "python",
   "nbconvert_exporter": "python",
   "pygments_lexer": "ipython3",
   "version": "3.7.3"
  }
 },
 "nbformat": 4,
 "nbformat_minor": 1
}
