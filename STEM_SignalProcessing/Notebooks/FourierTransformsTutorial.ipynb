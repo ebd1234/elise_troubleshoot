{
 "cells": [
  {
   "cell_type": "markdown",
   "metadata": {},
   "source": [
    "# Fourier Transforms\n",
    "\n",
    "In this notebook, we take a look at the Fourier Series representation of periodic signals, the Fourier Transfrom, the frequency domain, and the Fast Fourier Transform\n"
   ]
  },
  {
   "cell_type": "code",
   "execution_count": null,
   "metadata": {},
   "outputs": [],
   "source": [
    "%matplotlib inline\n",
    "import matplotlib\n",
    "import matplotlib.pyplot as plt\n",
    "import numpy as np\n",
    "\n",
    "from ipywidgets import interact\n",
    "# workaround function for interact implementation\n",
    "def showInInteract():\n",
    "    import inspect\n",
    "    for i in range(5):\n",
    "        if 'interaction.py' in inspect.stack()[i][1]: plt.show()"
   ]
  },
  {
   "cell_type": "markdown",
   "metadata": {},
   "source": [
    "## The Fourier Series Representation of a Periodic Signal\n",
    "\n",
    "Before we talk about the Fourier Transform, we must first be introduced to the Fourier Series. This will allow us to represent any periodic signal as a series of sines and cosines in the following way:\n",
    "\n",
    "Let $f(t)$ be a periodic signal:\n",
    "$$\n",
    "f(t)=f(t+nT),n∈Z.\n",
    "$$\n",
    "\n",
    "$T$ is the fundamental period (the time required for one complete cycle of signal to pass in a given point).\n",
    "\n",
    "#### Fourier Series:\n",
    "$$\n",
    "f(t) = \\frac{a_0}{2} + \\sum_{n=1}^{\\infty} a_n \\cos(n \\omega_0 t) + b_n \\sin(n \\omega_o t)\n",
    "$$\n",
    "$$\n",
    "\\omega_0 =\\frac{2\\pi}{T}\n",
    "$$\n",
    "\n",
    "##### $f_0 = 2\\pi\\omega_0$ is the fundamental frequency\n",
    "\n",
    "##### $a_n$ and $b_n$ are the coefficients of the Fourier Series and are defined as:\n",
    "$$\n",
    "a_n = \\frac{2}{T}\\int_{-T/2}^{T/2} f(t)\\cos(n \\omega_0 t)dt\n",
    "$$\n",
    "\n",
    "$$\n",
    "b_n = \\frac{2}{T}\\int_{-T/2}^{T/2} f(t)\\sin(n \\omega_0 t)dt\n",
    "$$\n",
    "\n",
    "##### $a_0$ is the average value of the signal:\n",
    "\n",
    "$$\n",
    "a_0 = \\frac{2}{T}\\int_{-T/2}^{T/2} f(t)dt\n",
    "$$\n",
    "\n",
    "\n",
    "Note that for a function with period $T$, the frequencies of the sines and cosines are:\n",
    "\n",
    "$$\n",
    "\\frac{1}{T},\\frac{2}{T},\\frac{3}{T},…,\n",
    "$$\n",
    "\n",
    "They are multiples of the fundamental frequency $\\frac{1}{T}$, which is the inverse period duration of the function. Therefore the frequency $\\frac{n}{T}$ is called the nth harmonic and the frequencies are all integer multiples of the fundamental frequency.\n"
   ]
  },
  {
   "cell_type": "markdown",
   "metadata": {},
   "source": [
    "## Using the Fourier Series to Represent a Square Wave\n",
    "\n",
    "Now, lets verify the calculation of the Fourier coefficients and the function reconstruction numerically. First, we define a periodic square wave function with period $T$=1 that we want to expand into a Fourier series:"
   ]
  },
  {
   "cell_type": "code",
   "execution_count": null,
   "metadata": {},
   "outputs": [],
   "source": [
    "Fs = 10000\n",
    "\"\"\"rect function\"\"\"\n",
    "square_wave = lambda t: (abs((t%1)-0.25) < 0.25).astype(float) - (abs((t%1)-0.75) < 0.25).astype(float)\n",
    "t = np.arange(-1.5, 2, 1/Fs)\n",
    "plt.plot(t, square_wave(t))\n",
    "plt.xlabel('$t$'); plt.ylabel('$x(t)$'); plt.grid(True); plt.ylim((-1.1, 1.1)); plt.title(\"Square Wave (Rect Function)\")"
   ]
  },
  {
   "cell_type": "code",
   "execution_count": null,
   "metadata": {},
   "outputs": [],
   "source": [
    "\"\"\"Calculate the Fourier series coefficients up to the Nth harmonic\"\"\"\n",
    "def fourierseries(period, N):\n",
    "    result = []\n",
    "    T = len(period)\n",
    "    t = np.arange(T)\n",
    "    for n in range(N+1):\n",
    "        an = 2/T*(period * np.cos(2*np.pi*n*t/T)).sum()\n",
    "        bn = 2/T*(period * np.sin(2*np.pi*n*t/T)).sum()\n",
    "        result.append((an, bn))\n",
    "    return np.array(result)"
   ]
  },
  {
   "cell_type": "markdown",
   "metadata": {},
   "source": [
    "Now lets look at the reconstruction of the square wave, i.e. we calculate $f(t)$ from its Fourier Series coefficients up to a given order."
   ]
  },
  {
   "cell_type": "code",
   "execution_count": null,
   "metadata": {},
   "outputs": [],
   "source": [
    "\"\"\"Calculates FS coefficents up to a given order to reconstruct a signal\"\"\"\n",
    "def reconstruct(P, anbn):\n",
    "    result = 0\n",
    "    t = np.arange(P)\n",
    "    for n, (a, b) in enumerate(anbn):\n",
    "        if n == 0:\n",
    "            a = a/2\n",
    "        result = result + a*np.cos(2*np.pi*n*t/P) + b * np.sin(2*np.pi*n*t/P)\n",
    "    return result"
   ]
  },
  {
   "cell_type": "code",
   "execution_count": null,
   "metadata": {},
   "outputs": [],
   "source": [
    "t_period = np.arange(0, 1, 1/Fs)\n",
    "F = fourierseries(square_wave(t_period), 100)\n",
    "plt.plot(t_period, square_wave(t_period), label='Original Signal', lw=2)\n",
    "plt.plot(t_period, reconstruct(len(t_period), F[:10,:]), label='Reconstructed with 10 Harmonics');\n",
    "plt.plot(t_period, reconstruct(len(t_period), F[:20,:]), label='Reconstructed with 20 Harmonics');\n",
    "plt.plot(t_period, reconstruct(len(t_period), F[:100,:]), label='Reconstructed with 100 Harmonics');\n",
    "\n",
    "plt.grid(True); plt.ylabel('$x(t)$'); plt.xlabel('$t$');\n",
    "plt.legend(fontsize=8);"
   ]
  },
  {
   "cell_type": "markdown",
   "metadata": {},
   "source": [
    "As we can see, the reconstructed signal roughly follows the original, and the more harmonics used, the better. However, we also see that the reconstructed signal is not exact. Instead, the reconstructed signal significantly fluctuates near the edges of the square wave.\n",
    "As an aside, this phenomenon is called Gibbs Phenomenon and describes the fact that the Fourier series has large oscillations around jump discontinuities. In particular, the height of overshooting or undershooting does not depend on the number of harmonics and is roughly 9% of the jump height.\n",
    "However, the duration of the oscillations decreases with the number of harmonics, eventually leading to a correct approximation in the limit for infinitely many harmonics."
   ]
  },
  {
   "cell_type": "markdown",
   "metadata": {},
   "source": [
    "## The Complex Fourier Series\n",
    "\n",
    "Now lets continue further and write the Fourier Series in a different form by replacing the sum of sine and cosine with exponential terms:\n",
    "\n",
    "( $j$ is the imaginary number here)\n",
    "\n",
    "$$\\begin{align}f(t)&=\\frac{a_0}{2}+\\sum_{n=1}^\\infty a_n\\cos(\\frac{2\\pi nt}{T})+b_n\\sin(\\frac{2\\pi nt}{T})\\\\\n",
    "&=\\frac{a_0}{2}+\\sum_{n=1}^\\infty \\frac{a_n-jb_n}{2}\\exp(j\\frac{2\\pi nt}{T}) + \\frac{a_n+jb_n}{2}\\exp(-j\\frac{2\\pi nt}{T})\\end{align}$$\n",
    "\n",
    "Now set $$c_n=\\begin{cases}\\frac{a_n-jb_n}{2} & n > 0\\\\\\frac{a_0}{2} & n=0 \\\\ \\frac{a_n+jb_n}{2} & c < 0\\end{cases},$$\n",
    "\n",
    "so that we can write the Fourier Series as:\n",
    "\n",
    "$$f(t)=\\sum_{n=-\\infty}^{\\infty}c_n\\exp(j\\frac{2\\pi nt}{T}).$$\n",
    "\n",
    "The calculation of the coefficients $c_n$ is straight-forward:\n",
    "\n",
    "$$\\begin{align}c_n = \\frac{a_n-jb_n}{2}&=\\frac{1}{2}\\left[\\frac{2}{T}\\int_{-\\frac{T}{2}}^{\\frac{T}{2}}f(t)\\cos(\\frac{2\\pi nt}{T})dt-j\\frac{2}{T}\\int_{-\\frac{T}{2}}^{\\frac{T}{2}}f(t)\\sin(\\frac{2\\pi nt}{T})dt\\right]\\\\&=\\frac{1}{T}\\int_{-\\frac{T}{2}}^{\\frac{T}{2}}f(t)[\\cos(\\frac{2\\pi nt}{T})-j\\sin(\\frac{2\\pi nt}{T})]dt\\\\&=\\frac{1}{T}\\int_{-\\frac{T}{2}}^{\\frac{T}{2}}f(t)\\exp(-j\\frac{2\\pi nt}{T})dt\\end{align}$$\n",
    "\n",
    "So, the formulation for the Fourier series is:\n",
    "\n",
    "$$\\begin{align}f(t)&=\\sum_{n=-\\infty}^{\\infty}c_n\\exp(j\\frac{2\\pi nt}{T})\\\\\n",
    "\\text{with }c_n&=\\int_{-\\frac{T}{2}}^{\\frac{T}{2}}f(t)\\exp(-j\\frac{2\\pi nt}{T})dt.\\end{align}$$\n",
    "\n",
    "for $n>0$. We get exactly the same expression for $n\\leq 0$.\n",
    "\n",
    "We can verify this numerically by calculating the Fourier Series coefficients $a_n,b_n$ and $c_n$ of another square wave."
   ]
  },
  {
   "cell_type": "code",
   "execution_count": null,
   "metadata": {},
   "outputs": [],
   "source": [
    "\"\"\"Calculate the FS coefficients a_n, b_n up to the Nth harmonic\"\"\"\n",
    "def fourierseries_anbn(period, N):\n",
    "    result = []\n",
    "    T = len(period)\n",
    "    t = np.arange(T)\n",
    "    for n in range(N+1):\n",
    "        an = 2/T*(period * np.cos(2*np.pi*n*t/T)).sum()\n",
    "        bn = 2/T*(period * np.sin(2*np.pi*n*t/T)).sum()\n",
    "        result.append((an, bn))\n",
    "    return np.array(result)\n",
    "\n",
    "\"\"\"Calculate the FS coefficient c_n to the Nth harmonic\"\"\"\n",
    "def fourierseries_cn(period, N):\n",
    "    result = []\n",
    "    T = len(period)\n",
    "    t = np.arange(T)\n",
    "    for n in range(N+1):\n",
    "        c_plusn = 1/T * (period * np.exp(-2j*np.pi*n*t/T)).sum()\n",
    "        c_minusn = 1/T * (period * np.exp(2j*np.pi*n*t/T)).sum()\n",
    "        result.append((c_plusn, c_minusn))\n",
    "    return np.array(result)"
   ]
  },
  {
   "cell_type": "code",
   "execution_count": null,
   "metadata": {},
   "outputs": [],
   "source": [
    "\"\"\"rect function\"\"\"\n",
    "f = lambda t: (abs(t % 1)<0.05).astype(float)\n",
    "t = np.arange(-1.5, 1.5, 0.001)\n",
    "plt.figure(figsize=(8,3))\n",
    "plt.subplot(131) \n",
    "plt.plot(t, f(t))\n",
    "plt.ylim((-0.1, 1.1)); plt.title('Time domain $f(t)$'); plt.xlabel('$t$'); plt.ylabel('$f(t)$'); plt.grid(True)\n",
    "\n",
    "t_period = np.arange(0, 1, 0.001)\n",
    "period = f(t_period)\n",
    "anbn = fourierseries_anbn(period, 100)\n",
    "cn = fourierseries_cn(period, 100)\n",
    "\n",
    "plt.subplot(132)\n",
    "plt.plot(anbn[:,0], label='$a_n$')\n",
    "plt.plot(anbn[:,1], label='$b_n$')\n",
    "plt.grid(True); plt.xlabel('$n$'); plt.ylabel('$a_n,b_n$'); plt.title('fourierseries_anbn'); plt.legend(fontsize=10)\n",
    "yl = plt.gca().get_ylim()\n",
    "\n",
    "plt.subplot(133)\n",
    "plt.plot(cn[:,0].real, label='$Re(c_n)$')\n",
    "plt.plot(cn[:,0].imag, label='$Im(c_n)$')\n",
    "plt.grid(True); plt.xlabel('$n$'); plt.ylabel('$cn$'); plt.title('fourierseries_cn'); plt.legend(fontsize=10)\n",
    "plt.ylim(yl)\n",
    "\n",
    "plt.tight_layout()"
   ]
  },
  {
   "cell_type": "markdown",
   "metadata": {},
   "source": [
    "## Using the Fourier Series to Create the Fourier Transform\n",
    "\n",
    "$$\n",
    "\\begin{align} &\\text{Fourier Series:}&x(t)&=\\sum_{n=-\\infty}^{\\infty}c_n\\exp(j2\\pi \\frac{n}{T}t) &c_n&=\\int_{-\\frac{T}{2}}^{\\frac{T}{2}}x(t)\\exp(-j2\\pi \\frac{n}{T}t)dt\\end{align}\n",
    "$$\n",
    "\n",
    "It's time to finally relate the Fourier Series to the Fourier Transform, which will be more useful to us for the following reasons:\n",
    "$$\n",
    "$$\n",
    "The Fourier Transform can be applied for an aperiodic signal, whereas the Fourier series is used for a periodic signal with period $T$.\n",
    "Furthermore, the Fourier Transform allows the signal $f(t)$ to consist of arbitrary frequencies $f$, whereas the periodic signal $f(t)$ in the Fourier Series only consists of harmonics of discrete frequency $f_n=\\frac{n}{T}$.\n",
    "\n",
    "### The Fourier Transform:\n",
    "$$\n",
    "\\begin{align}x(t)&=\\int_{-\\infty}^{\\infty}X(f)\\exp(j2\\pi ft)dt&X(f)&=\\int_{-\\infty}^{\\infty}x(t)\\exp(-j2\\pi ft)dt&\\end{align}\n",
    "$$\n",
    "\n",
    "To relate the Fourier Series to the Fourier Transform, lets rewrite the Fourier Series with using the Dirac Filter Property:\n",
    "$$\n",
    "$$\n",
    "Operating on a signal with the delta function $\\delta(t)$ at time t = $\\tau$ means that the function only exists at that instant:\n",
    "\n",
    "$$\\int_{-\\infty}^{\\infty}x(t)\\delta(t-\\tau)dt=x(\\tau)$$\n",
    "\n",
    "Using this we can write:\n",
    "\n",
    "$$x(t)=\\int_{-\\infty}^{\\infty}X(f)\\exp(j2\\pi \\frac{n}{T}t)df \\text{ with }X(f)=\\sum_{n=-\\infty}^{\\infty}c_n\\delta(f-\\frac{n}{T}).$$"
   ]
  },
  {
   "cell_type": "markdown",
   "metadata": {},
   "source": [
    "##### The Fourier Series becomes the Fourier Transform when:\n",
    "$$\n",
    "T \\rightarrow \\infty, \\qquad \\omega_0,f_0 \\rightarrow 0\n",
    "$$"
   ]
  },
  {
   "cell_type": "markdown",
   "metadata": {},
   "source": [
    "The expression for $x(t)$ is now equal to the inverse Fourier transform, and we can already identify $X(f)$ as the spectrum of the periodic $x(t)$. We see that $X(f)$ of the periodic signal is discrete (it is nonzero at only the harmonic frequencies). $\\frac{n}{T}$. The difference between the discrete frequencies is $\\frac{1}{T}$ (it decreases with larger period lengths). If we now eventually assume $T\\rightarrow\\infty$ (we let the period duration of the signal become infinite), we directly end up with the expression for the Fourier transform, because \n",
    "\n",
    "$$\\lim_{T\\rightarrow\\infty}\\sum_{n=-\\infty}^{\\infty}c_n\\delta(f-\\frac{n}{T})$$\n",
    "\n",
    "becomes a continuous function of $f$, since the Diracs $\\delta(t)$ get closer and closer together, eventually merging to a smooth function. \n",
    "\n",
    "Let us eventually verify this relation numerically: We take a single rectangular pulse and increase its period's length, i.e. we keep the length of the rect pulse constant, but increase the distance between the pulses, eventually leading to a single, aperiodic pulse, when the period duration becomes infinite:"
   ]
  },
  {
   "cell_type": "code",
   "execution_count": null,
   "metadata": {},
   "outputs": [],
   "source": [
    "def compareserieswithtransform(T):\n",
    "    Fs = 1000\n",
    "    t = np.arange(0, 100, 1/Fs)\n",
    "    t_period = np.arange(0, T, 1/Fs)\n",
    "    x_p = lambda t: (abs((t % T)-0.5) <= 0.5).astype(float)\n",
    "    x = lambda t: (abs(t-0.5) <= 0.5).astype(float)\n",
    "    plt.gcf().clear()\n",
    "    plt.subplot(121)\n",
    "    plt.plot(t, x_p(t))\n",
    "    plt.annotate(xy=(0, -0.02), xytext=(T, -0.02), s='', arrowprops=dict(arrowstyle='<->', shrinkA=0, shrinkB=0))\n",
    "    plt.text(T/2, -0.02, '$T$', va='top', ha='center')\n",
    "    plt.ylim((-0.1, 1.1)); plt.xlim((0, 15)); plt.ylabel('$x(t)$'); plt.xlabel('$t$')\n",
    "    \n",
    "    cn = fourierseries_cn(x_p(t_period), 100)[:,0]\n",
    "    f_discrete = np.arange(len(cn))/T\n",
    "    \n",
    "    f = np.linspace(0, Fs, len(t), endpoint=False)\n",
    "    X = np.fft.fft(x(t))/Fs\n",
    "    plt.subplot(122)\n",
    "    plt.plot(f, abs(X), label='Fourier Tr. of rect')\n",
    "    plt.stem(f_discrete, abs(cn*T), label='Fourier Series $c_n$')\n",
    "    plt.xlim((0, 4))\n",
    "    plt.xlabel('$f$'); plt.ylabel('$c_n, X(f)$'); plt.grid(True); plt.title('Frequency domain'); plt.legend(fontsize=10);\n",
    "    \n",
    "    plt.tight_layout(); showInInteract()"
   ]
  },
  {
   "cell_type": "code",
   "execution_count": null,
   "metadata": {},
   "outputs": [],
   "source": [
    "compareserieswithtransform(2)"
   ]
  },
  {
   "cell_type": "code",
   "execution_count": null,
   "metadata": {},
   "outputs": [],
   "source": [
    "compareserieswithtransform(10)"
   ]
  },
  {
   "cell_type": "code",
   "execution_count": null,
   "metadata": {},
   "outputs": [],
   "source": [
    "interact(compareserieswithtransform, T=(1, 25, 1))"
   ]
  },
  {
   "cell_type": "markdown",
   "metadata": {},
   "source": [
    "## The Fast Fourier Transform (FFT)\n",
    "\n",
    "The Fast Fourier Transform is a way of performing a Fourier Transform in O(nlogn) time instead of the standard O(n$^2$) time. FFT employs a divide and conquer approach that breaks the n point transform into two n/2 point transforms, resulting in log2(n) recursive steps with O(n) work occuring at each one in order to merge these transformations in much the same manner merge sort or quick sort is able to beat out insertion sort via the same method, reducing until a single term.\n",
    "\\begin{align}\n",
    "X_k &= \\sum_{n=0}^{N-1} x_n \\cdot e^{-i~2\\pi~k~n~/~N} \\\\\n",
    "    &= \\sum_{m=0}^{N/2 - 1} x_{2m} \\cdot e^{-i~2\\pi~k~(2m)~/~N} + \\sum_{m=0}^{N/2 - 1} x_{2m + 1} \\cdot e^{-i~2\\pi~k~(2m + 1)~/~N} \\\\\n",
    "    &= \\sum_{m=0}^{N/2 - 1} x_{2m} \\cdot e^{-i~2\\pi~k~m~/~(N/2)} + e^{-i~2\\pi~k~/~N} \\sum_{m=0}^{N/2 - 1} x_{2m + 1} \\cdot e^{-i~2\\pi~k~m~/~(N/2)}\n",
    "\\end{align}"
   ]
  },
  {
   "cell_type": "code",
   "execution_count": null,
   "metadata": {},
   "outputs": [],
   "source": []
  },
  {
   "cell_type": "code",
   "execution_count": null,
   "metadata": {},
   "outputs": [],
   "source": []
  }
 ],
 "metadata": {
  "kernelspec": {
   "display_name": "Python 3",
   "language": "python",
   "name": "python3"
  },
  "language_info": {
   "codemirror_mode": {
    "name": "ipython",
    "version": 3
   },
   "file_extension": ".py",
   "mimetype": "text/x-python",
   "name": "python",
   "nbconvert_exporter": "python",
   "pygments_lexer": "ipython3",
   "version": "3.7.3"
  }
 },
 "nbformat": 4,
 "nbformat_minor": 2
}
